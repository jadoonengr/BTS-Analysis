{
 "cells": [
  {
   "cell_type": "markdown",
   "metadata": {},
   "source": [
    "# BTS Tower Data Analysis\n"
   ]
  },
  {
   "cell_type": "markdown",
   "metadata": {},
   "source": [
    "***\n",
    "## 1. Data Extraction and Cleaning"
   ]
  },
  {
   "cell_type": "code",
   "execution_count": null,
   "metadata": {
    "collapsed": true
   },
   "outputs": [],
   "source": [
    "\"\"\"\n",
    "Created on Sept 18 03:12:39 2017\n",
    "\n",
    "@author: Aamir\n",
    "\"\"\""
   ]
  },
  {
   "cell_type": "markdown",
   "metadata": {},
   "source": [
    "### 1.1 Import Libraries"
   ]
  },
  {
   "cell_type": "code",
   "execution_count": 114,
   "metadata": {},
   "outputs": [],
   "source": [
    "%matplotlib inline\n",
    "import os\n",
    "import scipy.io\n",
    "import numpy as np\n",
    "import pandas as pd\n",
    "from math import log10, floor\n",
    "from datetime import datetime\n",
    "\n",
    "import keras\n",
    "from keras.layers import Dense\n",
    "from keras.models import Sequential\n",
    "from keras.models import load_model\n",
    "from keras.optimizers import SGD\n",
    "from keras.callbacks import EarlyStopping\n",
    "\n",
    "from sklearn.model_selection import train_test_split\n",
    "from sklearn.pipeline import make_pipeline\n",
    "from sklearn.ensemble import RandomForestClassifier\n",
    "from sklearn.feature_selection import SelectFromModel\n",
    "from sklearn.feature_selection import SelectKBest\n",
    "from sklearn.model_selection import StratifiedKFold\n",
    "from sklearn.model_selection import GridSearchCV\n",
    "from sklearn.ensemble.gradient_boosting import GradientBoostingClassifier\n",
    "from sklearn.model_selection import cross_val_score\n",
    "from sklearn.metrics import accuracy_score\n",
    "import xgboost as xgb\n",
    "\n",
    "from IPython.display import SVG\n",
    "import matplotlib.pyplot as plt\n",
    "plt.rcParams[\"figure.figsize\"] = [14,9]"
   ]
  },
  {
   "cell_type": "code",
   "execution_count": 4,
   "metadata": {
    "collapsed": true
   },
   "outputs": [],
   "source": [
    "# fix random seed for reproducibility\n",
    "seed = 7\n",
    "np.random.seed(seed)"
   ]
  },
  {
   "cell_type": "markdown",
   "metadata": {},
   "source": [
    "### 1.2 Import and select relevant data "
   ]
  },
  {
   "cell_type": "code",
   "execution_count": 20,
   "metadata": {
    "collapsed": true
   },
   "outputs": [],
   "source": [
    "temp1 = pd.read_excel(\"rstats_tp.xlsx\")"
   ]
  },
  {
   "cell_type": "code",
   "execution_count": 21,
   "metadata": {
    "collapsed": true
   },
   "outputs": [],
   "source": [
    "temp2 = pd.read_excel(\"rstatsx.xls\")"
   ]
  },
  {
   "cell_type": "code",
   "execution_count": 22,
   "metadata": {},
   "outputs": [
    {
     "data": {
      "text/plain": [
       "((12651, 26), (15638, 17))"
      ]
     },
     "execution_count": 22,
     "metadata": {},
     "output_type": "execute_result"
    }
   ],
   "source": [
    "temp1.shape, temp2.shape"
   ]
  },
  {
   "cell_type": "markdown",
   "metadata": {},
   "source": [
    "Clean the column names."
   ]
  },
  {
   "cell_type": "code",
   "execution_count": 31,
   "metadata": {},
   "outputs": [],
   "source": [
    "temp1.columns = ['SNo', 'DevID', 'RCli', 'RIpAddress', 'SigQty', 'Alarms',\n",
    "       'FLevelR', 'FLevelUS', 'FVolume', 'Temp0', 'Temp1', 'BatBank0',\n",
    "       'BatBank1', 'CP', 'GenOut', 'CT0', 'CT1', 'DCPower', 'DCEnergy',\n",
    "       'GenRunTime', 'CPOutTime', 'OnBatTime', 'SysDT', 'TCUDT',\n",
    "       'RawPkt', 'DataLoss']"
   ]
  },
  {
   "cell_type": "code",
   "execution_count": 38,
   "metadata": {},
   "outputs": [],
   "source": [
    "temp2.columns = ['SNo', 'RIpAddress', 'RStatsSNo', 'Alarms', 'VaRms',\n",
    "       'VbRms', 'VcRms', 'IaRms', 'IbRms', 'IcRms', 'Freq', 'Pf', 'ActPower',\n",
    "       'AppPower', 'ReactPower', 'Energy', 'serial']"
   ]
  },
  {
   "cell_type": "code",
   "execution_count": 73,
   "metadata": {},
   "outputs": [
    {
     "data": {
      "text/plain": [
       "SNo                    int64\n",
       "DevID                 object\n",
       "RCli                 float64\n",
       "RIpAddress            object\n",
       "SigQty                 int64\n",
       "Alarms                 int64\n",
       "FLevelR                int64\n",
       "FLevelUS               int64\n",
       "FVolume                int64\n",
       "Temp0                float64\n",
       "Temp1                float64\n",
       "BatBank0             float64\n",
       "BatBank1             float64\n",
       "CP                     int64\n",
       "GenOut                 int64\n",
       "CT0                  float64\n",
       "CT1                  float64\n",
       "DCPower                int64\n",
       "DCEnergy               int64\n",
       "GenRunTime             int64\n",
       "CPOutTime              int64\n",
       "OnBatTime              int64\n",
       "SysDT         datetime64[ns]\n",
       "TCUDT                float64\n",
       "RawPkt                object\n",
       "DataLoss             float64\n",
       "dtype: object"
      ]
     },
     "execution_count": 73,
     "metadata": {},
     "output_type": "execute_result"
    }
   ],
   "source": [
    "temp1.dtypes"
   ]
  },
  {
   "cell_type": "code",
   "execution_count": 74,
   "metadata": {},
   "outputs": [
    {
     "data": {
      "text/plain": [
       "SNo             int64\n",
       "RIpAddress     object\n",
       "RStatsSNo       int64\n",
       "Alarms          int64\n",
       "VaRms           int64\n",
       "VbRms           int64\n",
       "VcRms           int64\n",
       "IaRms         float64\n",
       "IbRms         float64\n",
       "IcRms         float64\n",
       "Freq          float64\n",
       "Pf            float64\n",
       "ActPower        int64\n",
       "AppPower        int64\n",
       "ReactPower      int64\n",
       "Energy          int64\n",
       "serial          int64\n",
       "dtype: object"
      ]
     },
     "execution_count": 74,
     "metadata": {},
     "output_type": "execute_result"
    }
   ],
   "source": [
    "temp2.dtypes"
   ]
  },
  {
   "cell_type": "code",
   "execution_count": 40,
   "metadata": {},
   "outputs": [
    {
     "data": {
      "text/html": [
       "<div>\n",
       "<style>\n",
       "    .dataframe thead tr:only-child th {\n",
       "        text-align: right;\n",
       "    }\n",
       "\n",
       "    .dataframe thead th {\n",
       "        text-align: left;\n",
       "    }\n",
       "\n",
       "    .dataframe tbody tr th {\n",
       "        vertical-align: top;\n",
       "    }\n",
       "</style>\n",
       "<table border=\"1\" class=\"dataframe\">\n",
       "  <thead>\n",
       "    <tr style=\"text-align: right;\">\n",
       "      <th></th>\n",
       "      <th>SNo</th>\n",
       "      <th>RCli</th>\n",
       "      <th>SigQty</th>\n",
       "      <th>Alarms</th>\n",
       "      <th>FLevelR</th>\n",
       "      <th>FLevelUS</th>\n",
       "      <th>FVolume</th>\n",
       "      <th>Temp0</th>\n",
       "      <th>Temp1</th>\n",
       "      <th>BatBank0</th>\n",
       "      <th>...</th>\n",
       "      <th>GenOut</th>\n",
       "      <th>CT0</th>\n",
       "      <th>CT1</th>\n",
       "      <th>DCPower</th>\n",
       "      <th>DCEnergy</th>\n",
       "      <th>GenRunTime</th>\n",
       "      <th>CPOutTime</th>\n",
       "      <th>OnBatTime</th>\n",
       "      <th>TCUDT</th>\n",
       "      <th>DataLoss</th>\n",
       "    </tr>\n",
       "  </thead>\n",
       "  <tbody>\n",
       "    <tr>\n",
       "      <th>count</th>\n",
       "      <td>1.265100e+04</td>\n",
       "      <td>7.002000e+03</td>\n",
       "      <td>12651.000000</td>\n",
       "      <td>1.265100e+04</td>\n",
       "      <td>12651.000000</td>\n",
       "      <td>12651.0</td>\n",
       "      <td>12651.000000</td>\n",
       "      <td>12651.000000</td>\n",
       "      <td>12651.000000</td>\n",
       "      <td>12651.000000</td>\n",
       "      <td>...</td>\n",
       "      <td>12651.000000</td>\n",
       "      <td>12651.000000</td>\n",
       "      <td>12651.000000</td>\n",
       "      <td>12651.000000</td>\n",
       "      <td>1.265100e+04</td>\n",
       "      <td>12651.000000</td>\n",
       "      <td>12651.000000</td>\n",
       "      <td>12651.000000</td>\n",
       "      <td>12650.000000</td>\n",
       "      <td>12650.0</td>\n",
       "    </tr>\n",
       "    <tr>\n",
       "      <th>mean</th>\n",
       "      <td>9.936403e+07</td>\n",
       "      <td>5.342436e+11</td>\n",
       "      <td>93.109636</td>\n",
       "      <td>5.658960e+06</td>\n",
       "      <td>559.495376</td>\n",
       "      <td>0.0</td>\n",
       "      <td>1169.766422</td>\n",
       "      <td>52.502948</td>\n",
       "      <td>45.047427</td>\n",
       "      <td>10.180073</td>\n",
       "      <td>...</td>\n",
       "      <td>11.090428</td>\n",
       "      <td>0.188546</td>\n",
       "      <td>2.138614</td>\n",
       "      <td>179.944589</td>\n",
       "      <td>4.540824e+07</td>\n",
       "      <td>262.732669</td>\n",
       "      <td>1901.173267</td>\n",
       "      <td>1646.467552</td>\n",
       "      <td>674.689881</td>\n",
       "      <td>0.0</td>\n",
       "    </tr>\n",
       "    <tr>\n",
       "      <th>std</th>\n",
       "      <td>1.290804e+04</td>\n",
       "      <td>4.560093e+11</td>\n",
       "      <td>3.816864</td>\n",
       "      <td>1.705954e+07</td>\n",
       "      <td>388.382166</td>\n",
       "      <td>0.0</td>\n",
       "      <td>1207.768221</td>\n",
       "      <td>42.631776</td>\n",
       "      <td>47.296037</td>\n",
       "      <td>15.293413</td>\n",
       "      <td>...</td>\n",
       "      <td>43.556949</td>\n",
       "      <td>0.375251</td>\n",
       "      <td>5.900616</td>\n",
       "      <td>264.574598</td>\n",
       "      <td>5.430981e+07</td>\n",
       "      <td>391.222940</td>\n",
       "      <td>2411.459154</td>\n",
       "      <td>2026.644796</td>\n",
       "      <td>471.755527</td>\n",
       "      <td>0.0</td>\n",
       "    </tr>\n",
       "    <tr>\n",
       "      <th>min</th>\n",
       "      <td>9.934710e+07</td>\n",
       "      <td>9.234100e+04</td>\n",
       "      <td>70.000000</td>\n",
       "      <td>2.457900e+04</td>\n",
       "      <td>94.000000</td>\n",
       "      <td>0.0</td>\n",
       "      <td>39.000000</td>\n",
       "      <td>9.200000</td>\n",
       "      <td>-46.600000</td>\n",
       "      <td>0.000000</td>\n",
       "      <td>...</td>\n",
       "      <td>1.000000</td>\n",
       "      <td>0.100000</td>\n",
       "      <td>-30.700000</td>\n",
       "      <td>0.000000</td>\n",
       "      <td>0.000000e+00</td>\n",
       "      <td>0.000000</td>\n",
       "      <td>0.000000</td>\n",
       "      <td>0.000000</td>\n",
       "      <td>0.000000</td>\n",
       "      <td>0.0</td>\n",
       "    </tr>\n",
       "    <tr>\n",
       "      <th>25%</th>\n",
       "      <td>9.935258e+07</td>\n",
       "      <td>9.234100e+04</td>\n",
       "      <td>90.000000</td>\n",
       "      <td>2.457900e+04</td>\n",
       "      <td>226.000000</td>\n",
       "      <td>0.0</td>\n",
       "      <td>143.000000</td>\n",
       "      <td>13.100000</td>\n",
       "      <td>6.900000</td>\n",
       "      <td>0.000000</td>\n",
       "      <td>...</td>\n",
       "      <td>2.000000</td>\n",
       "      <td>0.100000</td>\n",
       "      <td>0.300000</td>\n",
       "      <td>0.000000</td>\n",
       "      <td>0.000000e+00</td>\n",
       "      <td>0.000000</td>\n",
       "      <td>122.000000</td>\n",
       "      <td>107.000000</td>\n",
       "      <td>229.000000</td>\n",
       "      <td>0.0</td>\n",
       "    </tr>\n",
       "    <tr>\n",
       "      <th>50%</th>\n",
       "      <td>9.935704e+07</td>\n",
       "      <td>9.234197e+11</td>\n",
       "      <td>96.000000</td>\n",
       "      <td>1.507331e+06</td>\n",
       "      <td>266.000000</td>\n",
       "      <td>0.0</td>\n",
       "      <td>173.000000</td>\n",
       "      <td>18.600000</td>\n",
       "      <td>10.700000</td>\n",
       "      <td>12.400000</td>\n",
       "      <td>...</td>\n",
       "      <td>2.000000</td>\n",
       "      <td>0.100000</td>\n",
       "      <td>3.200000</td>\n",
       "      <td>178.000000</td>\n",
       "      <td>2.866795e+07</td>\n",
       "      <td>63.000000</td>\n",
       "      <td>720.000000</td>\n",
       "      <td>720.000000</td>\n",
       "      <td>580.000000</td>\n",
       "      <td>0.0</td>\n",
       "    </tr>\n",
       "    <tr>\n",
       "      <th>75%</th>\n",
       "      <td>9.937732e+07</td>\n",
       "      <td>9.234197e+11</td>\n",
       "      <td>96.000000</td>\n",
       "      <td>1.507843e+06</td>\n",
       "      <td>935.000000</td>\n",
       "      <td>0.0</td>\n",
       "      <td>2430.000000</td>\n",
       "      <td>99.900000</td>\n",
       "      <td>99.900000</td>\n",
       "      <td>13.500000</td>\n",
       "      <td>...</td>\n",
       "      <td>2.000000</td>\n",
       "      <td>0.100000</td>\n",
       "      <td>4.000000</td>\n",
       "      <td>237.000000</td>\n",
       "      <td>5.736597e+07</td>\n",
       "      <td>473.000000</td>\n",
       "      <td>2579.000000</td>\n",
       "      <td>2106.000000</td>\n",
       "      <td>1145.750000</td>\n",
       "      <td>0.0</td>\n",
       "    </tr>\n",
       "    <tr>\n",
       "      <th>max</th>\n",
       "      <td>9.938048e+07</td>\n",
       "      <td>9.234197e+11</td>\n",
       "      <td>96.000000</td>\n",
       "      <td>1.085015e+08</td>\n",
       "      <td>1142.000000</td>\n",
       "      <td>0.0</td>\n",
       "      <td>2915.000000</td>\n",
       "      <td>99.900000</td>\n",
       "      <td>99.900000</td>\n",
       "      <td>70.900000</td>\n",
       "      <td>...</td>\n",
       "      <td>240.000000</td>\n",
       "      <td>14.100000</td>\n",
       "      <td>79.400000</td>\n",
       "      <td>2353.000000</td>\n",
       "      <td>1.569432e+08</td>\n",
       "      <td>984.000000</td>\n",
       "      <td>7114.000000</td>\n",
       "      <td>6141.000000</td>\n",
       "      <td>1440.000000</td>\n",
       "      <td>0.0</td>\n",
       "    </tr>\n",
       "  </tbody>\n",
       "</table>\n",
       "<p>8 rows × 22 columns</p>\n",
       "</div>"
      ],
      "text/plain": [
       "                SNo          RCli        SigQty        Alarms       FLevelR  \\\n",
       "count  1.265100e+04  7.002000e+03  12651.000000  1.265100e+04  12651.000000   \n",
       "mean   9.936403e+07  5.342436e+11     93.109636  5.658960e+06    559.495376   \n",
       "std    1.290804e+04  4.560093e+11      3.816864  1.705954e+07    388.382166   \n",
       "min    9.934710e+07  9.234100e+04     70.000000  2.457900e+04     94.000000   \n",
       "25%    9.935258e+07  9.234100e+04     90.000000  2.457900e+04    226.000000   \n",
       "50%    9.935704e+07  9.234197e+11     96.000000  1.507331e+06    266.000000   \n",
       "75%    9.937732e+07  9.234197e+11     96.000000  1.507843e+06    935.000000   \n",
       "max    9.938048e+07  9.234197e+11     96.000000  1.085015e+08   1142.000000   \n",
       "\n",
       "       FLevelUS       FVolume         Temp0         Temp1      BatBank0  \\\n",
       "count   12651.0  12651.000000  12651.000000  12651.000000  12651.000000   \n",
       "mean        0.0   1169.766422     52.502948     45.047427     10.180073   \n",
       "std         0.0   1207.768221     42.631776     47.296037     15.293413   \n",
       "min         0.0     39.000000      9.200000    -46.600000      0.000000   \n",
       "25%         0.0    143.000000     13.100000      6.900000      0.000000   \n",
       "50%         0.0    173.000000     18.600000     10.700000     12.400000   \n",
       "75%         0.0   2430.000000     99.900000     99.900000     13.500000   \n",
       "max         0.0   2915.000000     99.900000     99.900000     70.900000   \n",
       "\n",
       "         ...           GenOut           CT0           CT1       DCPower  \\\n",
       "count    ...     12651.000000  12651.000000  12651.000000  12651.000000   \n",
       "mean     ...        11.090428      0.188546      2.138614    179.944589   \n",
       "std      ...        43.556949      0.375251      5.900616    264.574598   \n",
       "min      ...         1.000000      0.100000    -30.700000      0.000000   \n",
       "25%      ...         2.000000      0.100000      0.300000      0.000000   \n",
       "50%      ...         2.000000      0.100000      3.200000    178.000000   \n",
       "75%      ...         2.000000      0.100000      4.000000    237.000000   \n",
       "max      ...       240.000000     14.100000     79.400000   2353.000000   \n",
       "\n",
       "           DCEnergy    GenRunTime     CPOutTime     OnBatTime         TCUDT  \\\n",
       "count  1.265100e+04  12651.000000  12651.000000  12651.000000  12650.000000   \n",
       "mean   4.540824e+07    262.732669   1901.173267   1646.467552    674.689881   \n",
       "std    5.430981e+07    391.222940   2411.459154   2026.644796    471.755527   \n",
       "min    0.000000e+00      0.000000      0.000000      0.000000      0.000000   \n",
       "25%    0.000000e+00      0.000000    122.000000    107.000000    229.000000   \n",
       "50%    2.866795e+07     63.000000    720.000000    720.000000    580.000000   \n",
       "75%    5.736597e+07    473.000000   2579.000000   2106.000000   1145.750000   \n",
       "max    1.569432e+08    984.000000   7114.000000   6141.000000   1440.000000   \n",
       "\n",
       "       DataLoss  \n",
       "count   12650.0  \n",
       "mean        0.0  \n",
       "std         0.0  \n",
       "min         0.0  \n",
       "25%         0.0  \n",
       "50%         0.0  \n",
       "75%         0.0  \n",
       "max         0.0  \n",
       "\n",
       "[8 rows x 22 columns]"
      ]
     },
     "execution_count": 40,
     "metadata": {},
     "output_type": "execute_result"
    }
   ],
   "source": [
    "temp1.describe()"
   ]
  },
  {
   "cell_type": "code",
   "execution_count": 41,
   "metadata": {},
   "outputs": [
    {
     "data": {
      "text/html": [
       "<div>\n",
       "<style>\n",
       "    .dataframe thead tr:only-child th {\n",
       "        text-align: right;\n",
       "    }\n",
       "\n",
       "    .dataframe thead th {\n",
       "        text-align: left;\n",
       "    }\n",
       "\n",
       "    .dataframe tbody tr th {\n",
       "        vertical-align: top;\n",
       "    }\n",
       "</style>\n",
       "<table border=\"1\" class=\"dataframe\">\n",
       "  <thead>\n",
       "    <tr style=\"text-align: right;\">\n",
       "      <th></th>\n",
       "      <th>SNo</th>\n",
       "      <th>RStatsSNo</th>\n",
       "      <th>Alarms</th>\n",
       "      <th>VaRms</th>\n",
       "      <th>VbRms</th>\n",
       "      <th>VcRms</th>\n",
       "      <th>IaRms</th>\n",
       "      <th>IbRms</th>\n",
       "      <th>IcRms</th>\n",
       "      <th>Freq</th>\n",
       "      <th>Pf</th>\n",
       "      <th>ActPower</th>\n",
       "      <th>AppPower</th>\n",
       "      <th>ReactPower</th>\n",
       "      <th>Energy</th>\n",
       "      <th>serial</th>\n",
       "    </tr>\n",
       "  </thead>\n",
       "  <tbody>\n",
       "    <tr>\n",
       "      <th>count</th>\n",
       "      <td>1.563800e+04</td>\n",
       "      <td>1.563800e+04</td>\n",
       "      <td>15638.0</td>\n",
       "      <td>15638.000000</td>\n",
       "      <td>15638.000000</td>\n",
       "      <td>15638.000000</td>\n",
       "      <td>15638.000000</td>\n",
       "      <td>15638.000000</td>\n",
       "      <td>15638.000000</td>\n",
       "      <td>15638.000000</td>\n",
       "      <td>15638.000000</td>\n",
       "      <td>1.563800e+04</td>\n",
       "      <td>15638.0</td>\n",
       "      <td>15638.0</td>\n",
       "      <td>15638.000000</td>\n",
       "      <td>15638.00000</td>\n",
       "    </tr>\n",
       "    <tr>\n",
       "      <th>mean</th>\n",
       "      <td>8.260991e+07</td>\n",
       "      <td>9.912169e+07</td>\n",
       "      <td>51455.0</td>\n",
       "      <td>104.302596</td>\n",
       "      <td>108.354777</td>\n",
       "      <td>112.552564</td>\n",
       "      <td>90.389877</td>\n",
       "      <td>94.613953</td>\n",
       "      <td>98.303440</td>\n",
       "      <td>56.072496</td>\n",
       "      <td>3.948855</td>\n",
       "      <td>2.955878e+03</td>\n",
       "      <td>0.0</td>\n",
       "      <td>0.0</td>\n",
       "      <td>208709.360468</td>\n",
       "      <td>7819.50000</td>\n",
       "    </tr>\n",
       "    <tr>\n",
       "      <th>std</th>\n",
       "      <td>1.790278e+04</td>\n",
       "      <td>7.928970e+05</td>\n",
       "      <td>0.0</td>\n",
       "      <td>11.328306</td>\n",
       "      <td>12.552530</td>\n",
       "      <td>13.329911</td>\n",
       "      <td>118.501345</td>\n",
       "      <td>125.995373</td>\n",
       "      <td>131.976355</td>\n",
       "      <td>197.863874</td>\n",
       "      <td>7.710886</td>\n",
       "      <td>1.948064e+04</td>\n",
       "      <td>0.0</td>\n",
       "      <td>0.0</td>\n",
       "      <td>163544.004697</td>\n",
       "      <td>4514.44609</td>\n",
       "    </tr>\n",
       "    <tr>\n",
       "      <th>min</th>\n",
       "      <td>8.257831e+07</td>\n",
       "      <td>0.000000e+00</td>\n",
       "      <td>51455.0</td>\n",
       "      <td>0.000000</td>\n",
       "      <td>0.000000</td>\n",
       "      <td>0.000000</td>\n",
       "      <td>0.000000</td>\n",
       "      <td>0.000000</td>\n",
       "      <td>0.000000</td>\n",
       "      <td>0.000000</td>\n",
       "      <td>0.000000</td>\n",
       "      <td>0.000000e+00</td>\n",
       "      <td>0.0</td>\n",
       "      <td>0.0</td>\n",
       "      <td>0.000000</td>\n",
       "      <td>1.00000</td>\n",
       "    </tr>\n",
       "    <tr>\n",
       "      <th>25%</th>\n",
       "      <td>8.259450e+07</td>\n",
       "      <td>9.911260e+07</td>\n",
       "      <td>51455.0</td>\n",
       "      <td>105.000000</td>\n",
       "      <td>110.000000</td>\n",
       "      <td>112.000000</td>\n",
       "      <td>0.000000</td>\n",
       "      <td>0.000000</td>\n",
       "      <td>0.000000</td>\n",
       "      <td>49.700000</td>\n",
       "      <td>0.000000</td>\n",
       "      <td>0.000000e+00</td>\n",
       "      <td>0.0</td>\n",
       "      <td>0.0</td>\n",
       "      <td>10616.000000</td>\n",
       "      <td>3910.25000</td>\n",
       "    </tr>\n",
       "    <tr>\n",
       "      <th>50%</th>\n",
       "      <td>8.260906e+07</td>\n",
       "      <td>9.912717e+07</td>\n",
       "      <td>51455.0</td>\n",
       "      <td>106.000000</td>\n",
       "      <td>111.000000</td>\n",
       "      <td>116.000000</td>\n",
       "      <td>0.000000</td>\n",
       "      <td>0.000000</td>\n",
       "      <td>0.000000</td>\n",
       "      <td>49.900000</td>\n",
       "      <td>0.000000</td>\n",
       "      <td>0.000000e+00</td>\n",
       "      <td>0.0</td>\n",
       "      <td>0.0</td>\n",
       "      <td>206752.000000</td>\n",
       "      <td>7819.50000</td>\n",
       "    </tr>\n",
       "    <tr>\n",
       "      <th>75%</th>\n",
       "      <td>8.262492e+07</td>\n",
       "      <td>9.914305e+07</td>\n",
       "      <td>51455.0</td>\n",
       "      <td>107.000000</td>\n",
       "      <td>112.000000</td>\n",
       "      <td>117.000000</td>\n",
       "      <td>218.700000</td>\n",
       "      <td>232.000000</td>\n",
       "      <td>240.600000</td>\n",
       "      <td>50.000000</td>\n",
       "      <td>9.900000</td>\n",
       "      <td>7.840000e+03</td>\n",
       "      <td>0.0</td>\n",
       "      <td>0.0</td>\n",
       "      <td>376701.500000</td>\n",
       "      <td>11728.75000</td>\n",
       "    </tr>\n",
       "    <tr>\n",
       "      <th>max</th>\n",
       "      <td>8.264265e+07</td>\n",
       "      <td>9.916082e+07</td>\n",
       "      <td>51455.0</td>\n",
       "      <td>258.000000</td>\n",
       "      <td>130.000000</td>\n",
       "      <td>131.000000</td>\n",
       "      <td>328.100000</td>\n",
       "      <td>632.800000</td>\n",
       "      <td>999.900000</td>\n",
       "      <td>6553.500000</td>\n",
       "      <td>99.000000</td>\n",
       "      <td>2.373396e+06</td>\n",
       "      <td>0.0</td>\n",
       "      <td>0.0</td>\n",
       "      <td>500640.000000</td>\n",
       "      <td>15638.00000</td>\n",
       "    </tr>\n",
       "  </tbody>\n",
       "</table>\n",
       "</div>"
      ],
      "text/plain": [
       "                SNo     RStatsSNo   Alarms         VaRms         VbRms  \\\n",
       "count  1.563800e+04  1.563800e+04  15638.0  15638.000000  15638.000000   \n",
       "mean   8.260991e+07  9.912169e+07  51455.0    104.302596    108.354777   \n",
       "std    1.790278e+04  7.928970e+05      0.0     11.328306     12.552530   \n",
       "min    8.257831e+07  0.000000e+00  51455.0      0.000000      0.000000   \n",
       "25%    8.259450e+07  9.911260e+07  51455.0    105.000000    110.000000   \n",
       "50%    8.260906e+07  9.912717e+07  51455.0    106.000000    111.000000   \n",
       "75%    8.262492e+07  9.914305e+07  51455.0    107.000000    112.000000   \n",
       "max    8.264265e+07  9.916082e+07  51455.0    258.000000    130.000000   \n",
       "\n",
       "              VcRms         IaRms         IbRms         IcRms          Freq  \\\n",
       "count  15638.000000  15638.000000  15638.000000  15638.000000  15638.000000   \n",
       "mean     112.552564     90.389877     94.613953     98.303440     56.072496   \n",
       "std       13.329911    118.501345    125.995373    131.976355    197.863874   \n",
       "min        0.000000      0.000000      0.000000      0.000000      0.000000   \n",
       "25%      112.000000      0.000000      0.000000      0.000000     49.700000   \n",
       "50%      116.000000      0.000000      0.000000      0.000000     49.900000   \n",
       "75%      117.000000    218.700000    232.000000    240.600000     50.000000   \n",
       "max      131.000000    328.100000    632.800000    999.900000   6553.500000   \n",
       "\n",
       "                 Pf      ActPower  AppPower  ReactPower         Energy  \\\n",
       "count  15638.000000  1.563800e+04   15638.0     15638.0   15638.000000   \n",
       "mean       3.948855  2.955878e+03       0.0         0.0  208709.360468   \n",
       "std        7.710886  1.948064e+04       0.0         0.0  163544.004697   \n",
       "min        0.000000  0.000000e+00       0.0         0.0       0.000000   \n",
       "25%        0.000000  0.000000e+00       0.0         0.0   10616.000000   \n",
       "50%        0.000000  0.000000e+00       0.0         0.0  206752.000000   \n",
       "75%        9.900000  7.840000e+03       0.0         0.0  376701.500000   \n",
       "max       99.000000  2.373396e+06       0.0         0.0  500640.000000   \n",
       "\n",
       "            serial  \n",
       "count  15638.00000  \n",
       "mean    7819.50000  \n",
       "std     4514.44609  \n",
       "min        1.00000  \n",
       "25%     3910.25000  \n",
       "50%     7819.50000  \n",
       "75%    11728.75000  \n",
       "max    15638.00000  "
      ]
     },
     "execution_count": 41,
     "metadata": {},
     "output_type": "execute_result"
    }
   ],
   "source": [
    "temp2.describe()"
   ]
  },
  {
   "cell_type": "markdown",
   "metadata": {},
   "source": [
    "### 1.3 Check missing values "
   ]
  },
  {
   "cell_type": "markdown",
   "metadata": {},
   "source": [
    "### 1.4 Convert to numeric columns "
   ]
  },
  {
   "cell_type": "markdown",
   "metadata": {},
   "source": [
    "### 1.5 Normalize Data"
   ]
  },
  {
   "cell_type": "markdown",
   "metadata": {},
   "source": [
    "***\n",
    "## 2. Exploratory Data Analysis"
   ]
  },
  {
   "cell_type": "markdown",
   "metadata": {},
   "source": [
    "### Power Analysis"
   ]
  },
  {
   "cell_type": "markdown",
   "metadata": {},
   "source": [
    "Active power anaylsis after removing one outlier. "
   ]
  },
  {
   "cell_type": "code",
   "execution_count": 125,
   "metadata": {},
   "outputs": [
    {
     "data": {
      "image/png": "[encoded data removed]",
      "text/plain": [
       "<matplotlib.figure.Figure at 0x20d71610dd8>"
      ]
     },
     "metadata": {},
     "output_type": "display_data"
    }
   ],
   "source": [
    "y=temp2[temp2.ActPower<100000]\n",
    "plt.scatter(y.SNo,y.ActPower);\n",
    "plt.xticks(y.SNo);"
   ]
  },
  {
   "cell_type": "code",
   "execution_count": 115,
   "metadata": {},
   "outputs": [
    {
     "data": {
      "image/png": "[encoded data removed]",
      "text/plain": [
       "<matplotlib.figure.Figure at 0x20d71e93358>"
      ]
     },
     "metadata": {},
     "output_type": "display_data"
    }
   ],
   "source": [
    "plt.plot(y.SNo,y.ActPower);"
   ]
  },
  {
   "cell_type": "markdown",
   "metadata": {},
   "source": [
    "Energy consumption"
   ]
  },
  {
   "cell_type": "code",
   "execution_count": 117,
   "metadata": {},
   "outputs": [
    {
     "data": {
      "image/png": "[encoded data removed]",
      "text/plain": [
       "<matplotlib.figure.Figure at 0x20d7296b080>"
      ]
     },
     "metadata": {},
     "output_type": "display_data"
    }
   ],
   "source": [
    "plt.scatter(temp2.SNo, temp2.Energy);"
   ]
  },
  {
   "cell_type": "code",
   "execution_count": 118,
   "metadata": {},
   "outputs": [
    {
     "data": {
      "image/png": "[encoded data removed]",
      "text/plain": [
       "<matplotlib.figure.Figure at 0x20d74c380f0>"
      ]
     },
     "metadata": {},
     "output_type": "display_data"
    }
   ],
   "source": [
    "plt.plot(temp2.SNo, temp2.Energy);"
   ]
  },
  {
   "cell_type": "markdown",
   "metadata": {},
   "source": [
    "Plotting Current"
   ]
  },
  {
   "cell_type": "code",
   "execution_count": 121,
   "metadata": {},
   "outputs": [
    {
     "data": {
      "text/plain": [
       "<matplotlib.legend.Legend at 0x20d76115c50>"
      ]
     },
     "execution_count": 121,
     "metadata": {},
     "output_type": "execute_result"
    },
    {
     "data": {
      "image/png": "[encoded data removed]",
      "text/plain": [
       "<matplotlib.figure.Figure at 0x20d7649a208>"
      ]
     },
     "metadata": {},
     "output_type": "display_data"
    }
   ],
   "source": [
    "plt.plot(temp2.SNo, temp2.IaRms)\n",
    "plt.plot(temp2.SNo, temp2.IbRms)\n",
    "plt.plot(temp2.SNo, temp2.IcRms)\n",
    "plt.legend(['IaRms', 'IbRms', 'IcRms'], loc='upper right')"
   ]
  },
  {
   "cell_type": "markdown",
   "metadata": {},
   "source": [
    "Plotting Voltage"
   ]
  },
  {
   "cell_type": "code",
   "execution_count": 122,
   "metadata": {},
   "outputs": [
    {
     "data": {
      "text/plain": [
       "<matplotlib.legend.Legend at 0x20d74e152e8>"
      ]
     },
     "execution_count": 122,
     "metadata": {},
     "output_type": "execute_result"
    },
    {
     "data": {
      "image/png": "[encoded data removed]",
      "text/plain": [
       "<matplotlib.figure.Figure at 0x20d7649a0f0>"
      ]
     },
     "metadata": {},
     "output_type": "display_data"
    }
   ],
   "source": [
    "plt.plot(temp2.SNo, temp2.VaRms)\n",
    "plt.plot(temp2.SNo, temp2.VbRms)\n",
    "plt.plot(temp2.SNo, temp2.VcRms)\n",
    "plt.legend(['VaRms', 'VbRms', 'VcRms'], loc='upper right')"
   ]
  },
  {
   "cell_type": "markdown",
   "metadata": {},
   "source": [
    "***\n",
    "## 3. Train and Evaluate the Model"
   ]
  },
  {
   "cell_type": "markdown",
   "metadata": {},
   "source": [
    "### XGBoost MODEL"
   ]
  },
  {
   "cell_type": "markdown",
   "metadata": {},
   "source": [
    "### XGBoost Setup"
   ]
  },
  {
   "cell_type": "code",
   "execution_count": 240,
   "metadata": {
    "collapsed": true
   },
   "outputs": [],
   "source": [
    "# Specify the model\n",
    "dtrain = xgb.DMatrix(X_train, label=y_train)\n",
    "dvalid = xgb.DMatrix(X_valid, label=y_valid)\n",
    "dtest = xgb.DMatrix(Z_X)\n",
    "watchlist = [(dtrain, 'train'), (dvalid, 'valid')]"
   ]
  },
  {
   "cell_type": "markdown",
   "metadata": {},
   "source": [
    "### XGBoost training and evaluation"
   ]
  },
  {
   "cell_type": "code",
   "execution_count": 241,
   "metadata": {},
   "outputs": [
    {
     "name": "stdout",
     "output_type": "stream",
     "text": [
      "[0]\ttrain-rmse:2.63927\tvalid-rmse:2.63198\n",
      "Multiple eval metrics have been passed: 'valid-rmse' will be used for early stopping.\n",
      "\n",
      "Will train until valid-rmse hasn't improved in 10 rounds.\n",
      "[1]\ttrain-rmse:2.37537\tvalid-rmse:2.36882\n",
      "[2]\ttrain-rmse:2.13787\tvalid-rmse:2.13197\n",
      "[3]\ttrain-rmse:1.92411\tvalid-rmse:1.91881\n",
      "[4]\ttrain-rmse:1.73174\tvalid-rmse:1.72696\n",
      "[5]\ttrain-rmse:1.5586\tvalid-rmse:1.55431\n",
      "[6]\ttrain-rmse:1.40278\tvalid-rmse:1.39892\n",
      "[7]\ttrain-rmse:1.26254\tvalid-rmse:1.25908\n",
      "[8]\ttrain-rmse:1.13634\tvalid-rmse:1.13323\n",
      "[9]\ttrain-rmse:1.02275\tvalid-rmse:1.01997\n",
      "[10]\ttrain-rmse:0.920528\tvalid-rmse:0.918045\n",
      "[11]\ttrain-rmse:0.828535\tvalid-rmse:0.82631\n",
      "[12]\ttrain-rmse:0.745739\tvalid-rmse:0.743755\n",
      "[13]\ttrain-rmse:0.671231\tvalid-rmse:0.669462\n",
      "[14]\ttrain-rmse:0.604177\tvalid-rmse:0.602606\n",
      "[15]\ttrain-rmse:0.543833\tvalid-rmse:0.542436\n",
      "[16]\ttrain-rmse:0.489533\tvalid-rmse:0.488295\n",
      "[17]\ttrain-rmse:0.440663\tvalid-rmse:0.439574\n",
      "[18]\ttrain-rmse:0.396689\tvalid-rmse:0.39574\n",
      "[19]\ttrain-rmse:0.35712\tvalid-rmse:0.356295\n",
      "[20]\ttrain-rmse:0.321514\tvalid-rmse:0.320798\n",
      "[21]\ttrain-rmse:0.289472\tvalid-rmse:0.288859\n",
      "[22]\ttrain-rmse:0.260642\tvalid-rmse:0.26012\n",
      "[23]\ttrain-rmse:0.234704\tvalid-rmse:0.234268\n",
      "[24]\ttrain-rmse:0.211363\tvalid-rmse:0.211009\n",
      "[25]\ttrain-rmse:0.190366\tvalid-rmse:0.190087\n",
      "[26]\ttrain-rmse:0.171468\tvalid-rmse:0.17126\n",
      "[27]\ttrain-rmse:0.154482\tvalid-rmse:0.154343\n",
      "[28]\ttrain-rmse:0.139196\tvalid-rmse:0.139117\n",
      "[29]\ttrain-rmse:0.125457\tvalid-rmse:0.125435\n",
      "[30]\ttrain-rmse:0.113079\tvalid-rmse:0.113109\n",
      "[31]\ttrain-rmse:0.101967\tvalid-rmse:0.102053\n",
      "[32]\ttrain-rmse:0.091997\tvalid-rmse:0.092133\n",
      "[33]\ttrain-rmse:0.083002\tvalid-rmse:0.083179\n",
      "[34]\ttrain-rmse:0.074935\tvalid-rmse:0.075164\n",
      "[35]\ttrain-rmse:0.068072\tvalid-rmse:0.068352\n",
      "[36]\ttrain-rmse:0.06156\tvalid-rmse:0.061901\n",
      "[37]\ttrain-rmse:0.055682\tvalid-rmse:0.056071\n",
      "[38]\ttrain-rmse:0.050413\tvalid-rmse:0.050853\n",
      "[39]\ttrain-rmse:0.045738\tvalid-rmse:0.046233\n",
      "[40]\ttrain-rmse:0.041517\tvalid-rmse:0.042064\n",
      "[41]\ttrain-rmse:0.037749\tvalid-rmse:0.038362\n",
      "[42]\ttrain-rmse:0.034383\tvalid-rmse:0.035053\n",
      "[43]\ttrain-rmse:0.03143\tvalid-rmse:0.032164\n",
      "[44]\ttrain-rmse:0.028809\tvalid-rmse:0.029608\n",
      "[45]\ttrain-rmse:0.026527\tvalid-rmse:0.027379\n",
      "[46]\ttrain-rmse:0.024526\tvalid-rmse:0.025439\n",
      "[47]\ttrain-rmse:0.022776\tvalid-rmse:0.023763\n",
      "[48]\ttrain-rmse:0.021133\tvalid-rmse:0.022193\n",
      "[49]\ttrain-rmse:0.019809\tvalid-rmse:0.020919\n",
      "[50]\ttrain-rmse:0.01847\tvalid-rmse:0.019639\n",
      "[51]\ttrain-rmse:0.017299\tvalid-rmse:0.018527\n",
      "[52]\ttrain-rmse:0.016335\tvalid-rmse:0.017639\n",
      "[53]\ttrain-rmse:0.015571\tvalid-rmse:0.016933\n",
      "[54]\ttrain-rmse:0.014844\tvalid-rmse:0.016266\n",
      "[55]\ttrain-rmse:0.014138\tvalid-rmse:0.015614\n",
      "[56]\ttrain-rmse:0.013547\tvalid-rmse:0.015087\n",
      "[57]\ttrain-rmse:0.013151\tvalid-rmse:0.01474\n",
      "[58]\ttrain-rmse:0.012764\tvalid-rmse:0.014383\n",
      "[59]\ttrain-rmse:0.012458\tvalid-rmse:0.014103\n",
      "[60]\ttrain-rmse:0.012141\tvalid-rmse:0.013819\n",
      "[61]\ttrain-rmse:0.011823\tvalid-rmse:0.013525\n",
      "[62]\ttrain-rmse:0.011625\tvalid-rmse:0.01335\n",
      "[63]\ttrain-rmse:0.011402\tvalid-rmse:0.01314\n",
      "[64]\ttrain-rmse:0.011179\tvalid-rmse:0.012937\n",
      "[65]\ttrain-rmse:0.010998\tvalid-rmse:0.01277\n",
      "[66]\ttrain-rmse:0.010842\tvalid-rmse:0.012619\n",
      "[67]\ttrain-rmse:0.010719\tvalid-rmse:0.012511\n",
      "[68]\ttrain-rmse:0.010598\tvalid-rmse:0.012409\n",
      "[69]\ttrain-rmse:0.010459\tvalid-rmse:0.012274\n",
      "[70]\ttrain-rmse:0.010375\tvalid-rmse:0.012207\n",
      "[71]\ttrain-rmse:0.010296\tvalid-rmse:0.012169\n",
      "[72]\ttrain-rmse:0.010245\tvalid-rmse:0.012117\n",
      "[73]\ttrain-rmse:0.010172\tvalid-rmse:0.012049\n",
      "[74]\ttrain-rmse:0.010115\tvalid-rmse:0.012011\n",
      "[75]\ttrain-rmse:0.010063\tvalid-rmse:0.011965\n",
      "[76]\ttrain-rmse:0.009953\tvalid-rmse:0.011845\n",
      "[77]\ttrain-rmse:0.009915\tvalid-rmse:0.011813\n",
      "[78]\ttrain-rmse:0.009834\tvalid-rmse:0.011716\n",
      "[79]\ttrain-rmse:0.009794\tvalid-rmse:0.01169\n",
      "[80]\ttrain-rmse:0.009749\tvalid-rmse:0.011651\n",
      "[81]\ttrain-rmse:0.009711\tvalid-rmse:0.011618\n",
      "[82]\ttrain-rmse:0.009673\tvalid-rmse:0.011597\n",
      "[83]\ttrain-rmse:0.009647\tvalid-rmse:0.011581\n",
      "[84]\ttrain-rmse:0.009632\tvalid-rmse:0.011567\n",
      "[85]\ttrain-rmse:0.009555\tvalid-rmse:0.011489\n",
      "[86]\ttrain-rmse:0.009535\tvalid-rmse:0.011479\n",
      "[87]\ttrain-rmse:0.009514\tvalid-rmse:0.011458\n",
      "[88]\ttrain-rmse:0.009494\tvalid-rmse:0.011437\n",
      "[89]\ttrain-rmse:0.009465\tvalid-rmse:0.011407\n",
      "[90]\ttrain-rmse:0.009433\tvalid-rmse:0.011368\n",
      "[91]\ttrain-rmse:0.009412\tvalid-rmse:0.011349\n",
      "[92]\ttrain-rmse:0.009385\tvalid-rmse:0.011347\n",
      "[93]\ttrain-rmse:0.009354\tvalid-rmse:0.011321\n",
      "[94]\ttrain-rmse:0.009336\tvalid-rmse:0.011333\n",
      "[95]\ttrain-rmse:0.009289\tvalid-rmse:0.011291\n",
      "[96]\ttrain-rmse:0.009253\tvalid-rmse:0.011244\n",
      "[97]\ttrain-rmse:0.009226\tvalid-rmse:0.011233\n",
      "[98]\ttrain-rmse:0.00913\tvalid-rmse:0.011155\n",
      "[99]\ttrain-rmse:0.009103\tvalid-rmse:0.011136\n",
      "[100]\ttrain-rmse:0.009016\tvalid-rmse:0.011062\n",
      "[101]\ttrain-rmse:0.00899\tvalid-rmse:0.011039\n",
      "[102]\ttrain-rmse:0.00897\tvalid-rmse:0.011019\n",
      "[103]\ttrain-rmse:0.008947\tvalid-rmse:0.010993\n",
      "[104]\ttrain-rmse:0.008879\tvalid-rmse:0.01092\n",
      "[105]\ttrain-rmse:0.008862\tvalid-rmse:0.010911\n",
      "[106]\ttrain-rmse:0.008825\tvalid-rmse:0.010902\n",
      "[107]\ttrain-rmse:0.008809\tvalid-rmse:0.010883\n",
      "[108]\ttrain-rmse:0.008783\tvalid-rmse:0.010852\n",
      "[109]\ttrain-rmse:0.008724\tvalid-rmse:0.010791\n",
      "[110]\ttrain-rmse:0.008706\tvalid-rmse:0.010784\n",
      "[111]\ttrain-rmse:0.008699\tvalid-rmse:0.010766\n",
      "[112]\ttrain-rmse:0.008679\tvalid-rmse:0.010761\n",
      "[113]\ttrain-rmse:0.008625\tvalid-rmse:0.010713\n",
      "[114]\ttrain-rmse:0.008612\tvalid-rmse:0.010705\n",
      "[115]\ttrain-rmse:0.008592\tvalid-rmse:0.010688\n",
      "[116]\ttrain-rmse:0.008566\tvalid-rmse:0.010674\n",
      "[117]\ttrain-rmse:0.008539\tvalid-rmse:0.010646\n",
      "[118]\ttrain-rmse:0.008511\tvalid-rmse:0.010631\n",
      "[119]\ttrain-rmse:0.008451\tvalid-rmse:0.010577\n",
      "[120]\ttrain-rmse:0.008427\tvalid-rmse:0.010541\n",
      "[121]\ttrain-rmse:0.008399\tvalid-rmse:0.010536\n",
      "[122]\ttrain-rmse:0.008378\tvalid-rmse:0.010539\n",
      "[123]\ttrain-rmse:0.008361\tvalid-rmse:0.010515\n",
      "[124]\ttrain-rmse:0.008313\tvalid-rmse:0.01048\n",
      "[125]\ttrain-rmse:0.008292\tvalid-rmse:0.01047\n",
      "[126]\ttrain-rmse:0.008275\tvalid-rmse:0.010472\n",
      "[127]\ttrain-rmse:0.008255\tvalid-rmse:0.010464\n",
      "[128]\ttrain-rmse:0.008228\tvalid-rmse:0.010429\n",
      "[129]\ttrain-rmse:0.008187\tvalid-rmse:0.010392\n",
      "[130]\ttrain-rmse:0.008167\tvalid-rmse:0.010379\n",
      "[131]\ttrain-rmse:0.008133\tvalid-rmse:0.010341\n",
      "[132]\ttrain-rmse:0.008119\tvalid-rmse:0.010334\n",
      "[133]\ttrain-rmse:0.008091\tvalid-rmse:0.010301\n",
      "[134]\ttrain-rmse:0.008075\tvalid-rmse:0.010301\n",
      "[135]\ttrain-rmse:0.008055\tvalid-rmse:0.010274\n",
      "[136]\ttrain-rmse:0.008032\tvalid-rmse:0.010262\n",
      "[137]\ttrain-rmse:0.007941\tvalid-rmse:0.010141\n",
      "[138]\ttrain-rmse:0.007914\tvalid-rmse:0.010115\n",
      "[139]\ttrain-rmse:0.007897\tvalid-rmse:0.010102\n",
      "[140]\ttrain-rmse:0.007873\tvalid-rmse:0.010077\n",
      "[141]\ttrain-rmse:0.007864\tvalid-rmse:0.010069\n",
      "[142]\ttrain-rmse:0.007823\tvalid-rmse:0.010044\n",
      "[143]\ttrain-rmse:0.007807\tvalid-rmse:0.010028\n",
      "[144]\ttrain-rmse:0.007774\tvalid-rmse:0.009992\n",
      "[145]\ttrain-rmse:0.007766\tvalid-rmse:0.009981\n",
      "[146]\ttrain-rmse:0.00773\tvalid-rmse:0.009949\n",
      "[147]\ttrain-rmse:0.00772\tvalid-rmse:0.009947\n",
      "[148]\ttrain-rmse:0.007674\tvalid-rmse:0.009904\n",
      "[149]\ttrain-rmse:0.007599\tvalid-rmse:0.009806\n",
      "[150]\ttrain-rmse:0.007584\tvalid-rmse:0.009789\n",
      "[151]\ttrain-rmse:0.00757\tvalid-rmse:0.009763\n",
      "[152]\ttrain-rmse:0.007551\tvalid-rmse:0.009751\n",
      "[153]\ttrain-rmse:0.007518\tvalid-rmse:0.009725\n",
      "[154]\ttrain-rmse:0.007505\tvalid-rmse:0.009717\n",
      "[155]\ttrain-rmse:0.007492\tvalid-rmse:0.009715\n",
      "[156]\ttrain-rmse:0.007472\tvalid-rmse:0.009704\n",
      "[157]\ttrain-rmse:0.007468\tvalid-rmse:0.009702\n",
      "[158]\ttrain-rmse:0.007461\tvalid-rmse:0.009698\n",
      "[159]\ttrain-rmse:0.007443\tvalid-rmse:0.009673\n",
      "[160]\ttrain-rmse:0.007432\tvalid-rmse:0.00966\n",
      "[161]\ttrain-rmse:0.007423\tvalid-rmse:0.009648\n",
      "[162]\ttrain-rmse:0.00742\tvalid-rmse:0.009645\n",
      "[163]\ttrain-rmse:0.007362\tvalid-rmse:0.009588\n",
      "[164]\ttrain-rmse:0.007354\tvalid-rmse:0.009584\n",
      "[165]\ttrain-rmse:0.007342\tvalid-rmse:0.009579\n",
      "[166]\ttrain-rmse:0.007332\tvalid-rmse:0.009571\n",
      "[167]\ttrain-rmse:0.007324\tvalid-rmse:0.009573\n",
      "[168]\ttrain-rmse:0.007307\tvalid-rmse:0.009556\n",
      "[169]\ttrain-rmse:0.007278\tvalid-rmse:0.00952\n",
      "[170]\ttrain-rmse:0.007262\tvalid-rmse:0.009516\n",
      "[171]\ttrain-rmse:0.007252\tvalid-rmse:0.009524\n",
      "[172]\ttrain-rmse:0.007236\tvalid-rmse:0.009522\n",
      "[173]\ttrain-rmse:0.007224\tvalid-rmse:0.009516\n",
      "[174]\ttrain-rmse:0.007209\tvalid-rmse:0.009511\n",
      "[175]\ttrain-rmse:0.007203\tvalid-rmse:0.009505\n",
      "[176]\ttrain-rmse:0.007188\tvalid-rmse:0.009493\n",
      "[177]\ttrain-rmse:0.007153\tvalid-rmse:0.009473\n",
      "[178]\ttrain-rmse:0.007102\tvalid-rmse:0.00943\n"
     ]
    },
    {
     "name": "stdout",
     "output_type": "stream",
     "text": [
      "[179]\ttrain-rmse:0.007069\tvalid-rmse:0.009407\n",
      "[180]\ttrain-rmse:0.007035\tvalid-rmse:0.009379\n",
      "[181]\ttrain-rmse:0.007029\tvalid-rmse:0.009372\n",
      "[182]\ttrain-rmse:0.007024\tvalid-rmse:0.009376\n",
      "[183]\ttrain-rmse:0.007007\tvalid-rmse:0.009377\n",
      "[184]\ttrain-rmse:0.006998\tvalid-rmse:0.009376\n",
      "[185]\ttrain-rmse:0.006976\tvalid-rmse:0.009351\n",
      "[186]\ttrain-rmse:0.006955\tvalid-rmse:0.00933\n",
      "[187]\ttrain-rmse:0.006947\tvalid-rmse:0.009323\n",
      "[188]\ttrain-rmse:0.006937\tvalid-rmse:0.009317\n",
      "[189]\ttrain-rmse:0.006928\tvalid-rmse:0.00932\n",
      "[190]\ttrain-rmse:0.006896\tvalid-rmse:0.009273\n",
      "[191]\ttrain-rmse:0.006877\tvalid-rmse:0.009256\n",
      "[192]\ttrain-rmse:0.006871\tvalid-rmse:0.009264\n",
      "[193]\ttrain-rmse:0.006868\tvalid-rmse:0.009263\n",
      "[194]\ttrain-rmse:0.006858\tvalid-rmse:0.009248\n",
      "[195]\ttrain-rmse:0.006848\tvalid-rmse:0.009233\n",
      "[196]\ttrain-rmse:0.006834\tvalid-rmse:0.009219\n",
      "[197]\ttrain-rmse:0.006824\tvalid-rmse:0.009215\n",
      "[198]\ttrain-rmse:0.006806\tvalid-rmse:0.009194\n",
      "[199]\ttrain-rmse:0.006799\tvalid-rmse:0.009183\n",
      "[200]\ttrain-rmse:0.006792\tvalid-rmse:0.009173\n",
      "[201]\ttrain-rmse:0.006774\tvalid-rmse:0.009152\n",
      "[202]\ttrain-rmse:0.006733\tvalid-rmse:0.009117\n",
      "[203]\ttrain-rmse:0.006727\tvalid-rmse:0.009114\n",
      "[204]\ttrain-rmse:0.00672\tvalid-rmse:0.009111\n",
      "[205]\ttrain-rmse:0.006705\tvalid-rmse:0.009101\n",
      "[206]\ttrain-rmse:0.006692\tvalid-rmse:0.009092\n",
      "[207]\ttrain-rmse:0.006678\tvalid-rmse:0.00909\n",
      "[208]\ttrain-rmse:0.006655\tvalid-rmse:0.009058\n",
      "[209]\ttrain-rmse:0.006587\tvalid-rmse:0.008977\n",
      "[210]\ttrain-rmse:0.006583\tvalid-rmse:0.008975\n",
      "[211]\ttrain-rmse:0.006578\tvalid-rmse:0.008977\n",
      "[212]\ttrain-rmse:0.006569\tvalid-rmse:0.008986\n",
      "[213]\ttrain-rmse:0.006566\tvalid-rmse:0.008986\n",
      "[214]\ttrain-rmse:0.006556\tvalid-rmse:0.008976\n",
      "[215]\ttrain-rmse:0.006554\tvalid-rmse:0.008975\n",
      "[216]\ttrain-rmse:0.006551\tvalid-rmse:0.008976\n",
      "[217]\ttrain-rmse:0.00653\tvalid-rmse:0.008962\n",
      "[218]\ttrain-rmse:0.00649\tvalid-rmse:0.008936\n",
      "[219]\ttrain-rmse:0.006478\tvalid-rmse:0.008916\n",
      "[220]\ttrain-rmse:0.006475\tvalid-rmse:0.008913\n",
      "[221]\ttrain-rmse:0.006467\tvalid-rmse:0.00891\n",
      "[222]\ttrain-rmse:0.006446\tvalid-rmse:0.008886\n",
      "[223]\ttrain-rmse:0.006434\tvalid-rmse:0.008877\n",
      "[224]\ttrain-rmse:0.006428\tvalid-rmse:0.008879\n",
      "[225]\ttrain-rmse:0.00641\tvalid-rmse:0.008865\n",
      "[226]\ttrain-rmse:0.0064\tvalid-rmse:0.008851\n",
      "[227]\ttrain-rmse:0.006392\tvalid-rmse:0.008851\n",
      "[228]\ttrain-rmse:0.006387\tvalid-rmse:0.008841\n",
      "[229]\ttrain-rmse:0.006377\tvalid-rmse:0.008828\n",
      "[230]\ttrain-rmse:0.006364\tvalid-rmse:0.00883\n",
      "[231]\ttrain-rmse:0.00633\tvalid-rmse:0.00878\n",
      "[232]\ttrain-rmse:0.006293\tvalid-rmse:0.008753\n",
      "[233]\ttrain-rmse:0.006284\tvalid-rmse:0.008744\n",
      "[234]\ttrain-rmse:0.006281\tvalid-rmse:0.008746\n",
      "[235]\ttrain-rmse:0.006269\tvalid-rmse:0.008737\n",
      "[236]\ttrain-rmse:0.006224\tvalid-rmse:0.008698\n",
      "[237]\ttrain-rmse:0.006221\tvalid-rmse:0.008698\n",
      "[238]\ttrain-rmse:0.006199\tvalid-rmse:0.008685\n",
      "[239]\ttrain-rmse:0.006182\tvalid-rmse:0.008673\n",
      "[240]\ttrain-rmse:0.006174\tvalid-rmse:0.008665\n",
      "[241]\ttrain-rmse:0.006167\tvalid-rmse:0.008658\n",
      "[242]\ttrain-rmse:0.006159\tvalid-rmse:0.00865\n",
      "[243]\ttrain-rmse:0.006153\tvalid-rmse:0.008653\n",
      "[244]\ttrain-rmse:0.006149\tvalid-rmse:0.008654\n",
      "[245]\ttrain-rmse:0.006145\tvalid-rmse:0.008648\n",
      "[246]\ttrain-rmse:0.006138\tvalid-rmse:0.008649\n",
      "[247]\ttrain-rmse:0.006137\tvalid-rmse:0.008648\n",
      "[248]\ttrain-rmse:0.006127\tvalid-rmse:0.008639\n",
      "[249]\ttrain-rmse:0.006124\tvalid-rmse:0.008637\n",
      "[250]\ttrain-rmse:0.00612\tvalid-rmse:0.00863\n",
      "[251]\ttrain-rmse:0.006115\tvalid-rmse:0.008624\n",
      "[252]\ttrain-rmse:0.006112\tvalid-rmse:0.008625\n",
      "[253]\ttrain-rmse:0.006102\tvalid-rmse:0.008623\n",
      "[254]\ttrain-rmse:0.006093\tvalid-rmse:0.00863\n",
      "[255]\ttrain-rmse:0.00608\tvalid-rmse:0.008616\n",
      "[256]\ttrain-rmse:0.006077\tvalid-rmse:0.008613\n",
      "[257]\ttrain-rmse:0.006021\tvalid-rmse:0.008552\n",
      "[258]\ttrain-rmse:0.00601\tvalid-rmse:0.008541\n",
      "[259]\ttrain-rmse:0.006006\tvalid-rmse:0.008543\n",
      "[260]\ttrain-rmse:0.005988\tvalid-rmse:0.008532\n",
      "[261]\ttrain-rmse:0.005985\tvalid-rmse:0.008529\n",
      "[262]\ttrain-rmse:0.005973\tvalid-rmse:0.008516\n",
      "[263]\ttrain-rmse:0.005971\tvalid-rmse:0.008516\n",
      "[264]\ttrain-rmse:0.005953\tvalid-rmse:0.008503\n",
      "[265]\ttrain-rmse:0.005932\tvalid-rmse:0.008483\n",
      "[266]\ttrain-rmse:0.00593\tvalid-rmse:0.008482\n",
      "[267]\ttrain-rmse:0.005925\tvalid-rmse:0.008474\n",
      "[268]\ttrain-rmse:0.005923\tvalid-rmse:0.008473\n",
      "[269]\ttrain-rmse:0.005907\tvalid-rmse:0.008452\n",
      "[270]\ttrain-rmse:0.005901\tvalid-rmse:0.008446\n",
      "[271]\ttrain-rmse:0.005897\tvalid-rmse:0.008439\n",
      "[272]\ttrain-rmse:0.005881\tvalid-rmse:0.008431\n",
      "[273]\ttrain-rmse:0.005878\tvalid-rmse:0.008434\n",
      "[274]\ttrain-rmse:0.005873\tvalid-rmse:0.008428\n",
      "[275]\ttrain-rmse:0.005871\tvalid-rmse:0.008428\n",
      "[276]\ttrain-rmse:0.005868\tvalid-rmse:0.008429\n",
      "[277]\ttrain-rmse:0.005861\tvalid-rmse:0.008421\n",
      "[278]\ttrain-rmse:0.005855\tvalid-rmse:0.008429\n",
      "[279]\ttrain-rmse:0.005853\tvalid-rmse:0.008429\n",
      "[280]\ttrain-rmse:0.005847\tvalid-rmse:0.008427\n",
      "[281]\ttrain-rmse:0.005846\tvalid-rmse:0.008429\n",
      "[282]\ttrain-rmse:0.00584\tvalid-rmse:0.008422\n",
      "[283]\ttrain-rmse:0.005836\tvalid-rmse:0.008422\n",
      "[284]\ttrain-rmse:0.00583\tvalid-rmse:0.008418\n",
      "[285]\ttrain-rmse:0.005809\tvalid-rmse:0.008394\n",
      "[286]\ttrain-rmse:0.005803\tvalid-rmse:0.008391\n",
      "[287]\ttrain-rmse:0.005791\tvalid-rmse:0.008388\n",
      "[288]\ttrain-rmse:0.005783\tvalid-rmse:0.008391\n",
      "[289]\ttrain-rmse:0.005778\tvalid-rmse:0.008386\n",
      "[290]\ttrain-rmse:0.005765\tvalid-rmse:0.008383\n",
      "[291]\ttrain-rmse:0.005761\tvalid-rmse:0.008385\n",
      "[292]\ttrain-rmse:0.005756\tvalid-rmse:0.008381\n",
      "[293]\ttrain-rmse:0.005748\tvalid-rmse:0.008374\n",
      "[294]\ttrain-rmse:0.005744\tvalid-rmse:0.008373\n",
      "[295]\ttrain-rmse:0.00573\tvalid-rmse:0.008358\n",
      "[296]\ttrain-rmse:0.005728\tvalid-rmse:0.008358\n",
      "[297]\ttrain-rmse:0.005721\tvalid-rmse:0.008357\n",
      "[298]\ttrain-rmse:0.005707\tvalid-rmse:0.008356\n",
      "[299]\ttrain-rmse:0.005701\tvalid-rmse:0.008348\n",
      "[300]\ttrain-rmse:0.005696\tvalid-rmse:0.00835\n",
      "[301]\ttrain-rmse:0.005678\tvalid-rmse:0.008345\n",
      "[302]\ttrain-rmse:0.005672\tvalid-rmse:0.008347\n",
      "[303]\ttrain-rmse:0.00567\tvalid-rmse:0.008347\n",
      "[304]\ttrain-rmse:0.005661\tvalid-rmse:0.008337\n",
      "[305]\ttrain-rmse:0.005647\tvalid-rmse:0.008338\n",
      "[306]\ttrain-rmse:0.005643\tvalid-rmse:0.008338\n",
      "[307]\ttrain-rmse:0.005634\tvalid-rmse:0.008332\n",
      "[308]\ttrain-rmse:0.005626\tvalid-rmse:0.008322\n",
      "[309]\ttrain-rmse:0.005623\tvalid-rmse:0.008325\n",
      "[310]\ttrain-rmse:0.005605\tvalid-rmse:0.00831\n",
      "[311]\ttrain-rmse:0.005601\tvalid-rmse:0.008314\n",
      "[312]\ttrain-rmse:0.005576\tvalid-rmse:0.008295\n",
      "[313]\ttrain-rmse:0.005568\tvalid-rmse:0.008291\n",
      "[314]\ttrain-rmse:0.005561\tvalid-rmse:0.008286\n",
      "[315]\ttrain-rmse:0.005559\tvalid-rmse:0.008286\n",
      "[316]\ttrain-rmse:0.005555\tvalid-rmse:0.008285\n",
      "[317]\ttrain-rmse:0.005552\tvalid-rmse:0.008281\n",
      "[318]\ttrain-rmse:0.005548\tvalid-rmse:0.00828\n",
      "[319]\ttrain-rmse:0.005524\tvalid-rmse:0.008252\n",
      "[320]\ttrain-rmse:0.005516\tvalid-rmse:0.008246\n",
      "[321]\ttrain-rmse:0.005511\tvalid-rmse:0.008248\n",
      "[322]\ttrain-rmse:0.005498\tvalid-rmse:0.008235\n",
      "[323]\ttrain-rmse:0.005483\tvalid-rmse:0.008226\n",
      "[324]\ttrain-rmse:0.005469\tvalid-rmse:0.008213\n",
      "[325]\ttrain-rmse:0.005453\tvalid-rmse:0.00821\n",
      "[326]\ttrain-rmse:0.005445\tvalid-rmse:0.008195\n",
      "[327]\ttrain-rmse:0.005437\tvalid-rmse:0.008183\n",
      "[328]\ttrain-rmse:0.005431\tvalid-rmse:0.008176\n",
      "[329]\ttrain-rmse:0.005417\tvalid-rmse:0.008156\n",
      "[330]\ttrain-rmse:0.005413\tvalid-rmse:0.008151\n",
      "[331]\ttrain-rmse:0.005409\tvalid-rmse:0.008153\n",
      "[332]\ttrain-rmse:0.005397\tvalid-rmse:0.008147\n",
      "[333]\ttrain-rmse:0.005388\tvalid-rmse:0.008141\n",
      "[334]\ttrain-rmse:0.005383\tvalid-rmse:0.008136\n",
      "[335]\ttrain-rmse:0.005379\tvalid-rmse:0.008135\n",
      "[336]\ttrain-rmse:0.005366\tvalid-rmse:0.008119\n",
      "[337]\ttrain-rmse:0.005361\tvalid-rmse:0.008121\n",
      "[338]\ttrain-rmse:0.005353\tvalid-rmse:0.008114\n",
      "[339]\ttrain-rmse:0.005345\tvalid-rmse:0.00811\n",
      "[340]\ttrain-rmse:0.00534\tvalid-rmse:0.008112\n",
      "[341]\ttrain-rmse:0.005336\tvalid-rmse:0.008112\n",
      "[342]\ttrain-rmse:0.005327\tvalid-rmse:0.008102\n",
      "[343]\ttrain-rmse:0.00532\tvalid-rmse:0.008098\n",
      "[344]\ttrain-rmse:0.005308\tvalid-rmse:0.00808\n",
      "[345]\ttrain-rmse:0.005299\tvalid-rmse:0.008073\n",
      "[346]\ttrain-rmse:0.005298\tvalid-rmse:0.008072\n",
      "[347]\ttrain-rmse:0.005294\tvalid-rmse:0.008072\n",
      "[348]\ttrain-rmse:0.005286\tvalid-rmse:0.00806\n",
      "[349]\ttrain-rmse:0.005279\tvalid-rmse:0.008052\n",
      "[350]\ttrain-rmse:0.005272\tvalid-rmse:0.008041\n",
      "[351]\ttrain-rmse:0.005265\tvalid-rmse:0.008041\n",
      "[352]\ttrain-rmse:0.005263\tvalid-rmse:0.008038\n",
      "[353]\ttrain-rmse:0.005259\tvalid-rmse:0.008036\n",
      "[354]\ttrain-rmse:0.005247\tvalid-rmse:0.008027\n",
      "[355]\ttrain-rmse:0.005239\tvalid-rmse:0.008027\n",
      "[356]\ttrain-rmse:0.005237\tvalid-rmse:0.008028\n",
      "[357]\ttrain-rmse:0.00523\tvalid-rmse:0.008027\n"
     ]
    },
    {
     "name": "stdout",
     "output_type": "stream",
     "text": [
      "[358]\ttrain-rmse:0.005228\tvalid-rmse:0.008026\n",
      "[359]\ttrain-rmse:0.005225\tvalid-rmse:0.008024\n",
      "[360]\ttrain-rmse:0.005221\tvalid-rmse:0.008026\n",
      "[361]\ttrain-rmse:0.005218\tvalid-rmse:0.008025\n",
      "[362]\ttrain-rmse:0.005199\tvalid-rmse:0.00801\n",
      "[363]\ttrain-rmse:0.005191\tvalid-rmse:0.008007\n",
      "[364]\ttrain-rmse:0.005184\tvalid-rmse:0.007998\n",
      "[365]\ttrain-rmse:0.00518\tvalid-rmse:0.007999\n",
      "[366]\ttrain-rmse:0.005163\tvalid-rmse:0.007986\n",
      "[367]\ttrain-rmse:0.005159\tvalid-rmse:0.007983\n",
      "[368]\ttrain-rmse:0.005156\tvalid-rmse:0.007982\n",
      "[369]\ttrain-rmse:0.005153\tvalid-rmse:0.007978\n",
      "[370]\ttrain-rmse:0.005149\tvalid-rmse:0.007978\n",
      "[371]\ttrain-rmse:0.005146\tvalid-rmse:0.007971\n",
      "[372]\ttrain-rmse:0.00514\tvalid-rmse:0.00797\n",
      "[373]\ttrain-rmse:0.005128\tvalid-rmse:0.007964\n",
      "[374]\ttrain-rmse:0.005125\tvalid-rmse:0.007965\n",
      "[375]\ttrain-rmse:0.005124\tvalid-rmse:0.007965\n",
      "[376]\ttrain-rmse:0.005102\tvalid-rmse:0.007937\n",
      "[377]\ttrain-rmse:0.005098\tvalid-rmse:0.007935\n",
      "[378]\ttrain-rmse:0.005096\tvalid-rmse:0.007937\n",
      "[379]\ttrain-rmse:0.005088\tvalid-rmse:0.007936\n",
      "[380]\ttrain-rmse:0.005072\tvalid-rmse:0.007923\n",
      "[381]\ttrain-rmse:0.00507\tvalid-rmse:0.007921\n",
      "[382]\ttrain-rmse:0.005067\tvalid-rmse:0.007923\n",
      "[383]\ttrain-rmse:0.005059\tvalid-rmse:0.007921\n",
      "[384]\ttrain-rmse:0.005053\tvalid-rmse:0.007917\n",
      "[385]\ttrain-rmse:0.005051\tvalid-rmse:0.007915\n",
      "[386]\ttrain-rmse:0.005048\tvalid-rmse:0.007912\n",
      "[387]\ttrain-rmse:0.005047\tvalid-rmse:0.007912\n",
      "[388]\ttrain-rmse:0.005044\tvalid-rmse:0.007913\n",
      "[389]\ttrain-rmse:0.005037\tvalid-rmse:0.007909\n",
      "[390]\ttrain-rmse:0.00503\tvalid-rmse:0.007908\n",
      "[391]\ttrain-rmse:0.005021\tvalid-rmse:0.007905\n",
      "[392]\ttrain-rmse:0.004997\tvalid-rmse:0.007875\n",
      "[393]\ttrain-rmse:0.004993\tvalid-rmse:0.007877\n",
      "[394]\ttrain-rmse:0.00499\tvalid-rmse:0.007875\n",
      "[395]\ttrain-rmse:0.004981\tvalid-rmse:0.00787\n",
      "[396]\ttrain-rmse:0.004977\tvalid-rmse:0.007875\n",
      "[397]\ttrain-rmse:0.004974\tvalid-rmse:0.00787\n",
      "[398]\ttrain-rmse:0.004973\tvalid-rmse:0.007867\n",
      "[399]\ttrain-rmse:0.004969\tvalid-rmse:0.007868\n",
      "[400]\ttrain-rmse:0.004967\tvalid-rmse:0.007869\n",
      "[401]\ttrain-rmse:0.004964\tvalid-rmse:0.007871\n",
      "[402]\ttrain-rmse:0.004957\tvalid-rmse:0.007859\n",
      "[403]\ttrain-rmse:0.004949\tvalid-rmse:0.007861\n",
      "[404]\ttrain-rmse:0.004945\tvalid-rmse:0.007858\n",
      "[405]\ttrain-rmse:0.004942\tvalid-rmse:0.007859\n",
      "[406]\ttrain-rmse:0.004938\tvalid-rmse:0.007859\n",
      "[407]\ttrain-rmse:0.004925\tvalid-rmse:0.007848\n",
      "[408]\ttrain-rmse:0.004915\tvalid-rmse:0.007848\n",
      "[409]\ttrain-rmse:0.004913\tvalid-rmse:0.007846\n",
      "[410]\ttrain-rmse:0.004911\tvalid-rmse:0.007843\n",
      "[411]\ttrain-rmse:0.004909\tvalid-rmse:0.007844\n",
      "[412]\ttrain-rmse:0.004907\tvalid-rmse:0.007841\n",
      "[413]\ttrain-rmse:0.004897\tvalid-rmse:0.007835\n",
      "[414]\ttrain-rmse:0.004893\tvalid-rmse:0.007834\n",
      "[415]\ttrain-rmse:0.004891\tvalid-rmse:0.00783\n",
      "[416]\ttrain-rmse:0.004887\tvalid-rmse:0.007827\n",
      "[417]\ttrain-rmse:0.004874\tvalid-rmse:0.007824\n",
      "[418]\ttrain-rmse:0.004872\tvalid-rmse:0.007825\n",
      "[419]\ttrain-rmse:0.00486\tvalid-rmse:0.007819\n",
      "[420]\ttrain-rmse:0.004857\tvalid-rmse:0.007817\n",
      "[421]\ttrain-rmse:0.004855\tvalid-rmse:0.007814\n",
      "[422]\ttrain-rmse:0.004842\tvalid-rmse:0.007805\n",
      "[423]\ttrain-rmse:0.004841\tvalid-rmse:0.007801\n",
      "[424]\ttrain-rmse:0.004834\tvalid-rmse:0.007798\n",
      "[425]\ttrain-rmse:0.004831\tvalid-rmse:0.007799\n",
      "[426]\ttrain-rmse:0.004827\tvalid-rmse:0.007796\n",
      "[427]\ttrain-rmse:0.004818\tvalid-rmse:0.007788\n",
      "[428]\ttrain-rmse:0.004816\tvalid-rmse:0.007786\n",
      "[429]\ttrain-rmse:0.004815\tvalid-rmse:0.007785\n",
      "[430]\ttrain-rmse:0.004811\tvalid-rmse:0.007778\n",
      "[431]\ttrain-rmse:0.004807\tvalid-rmse:0.007779\n",
      "[432]\ttrain-rmse:0.004792\tvalid-rmse:0.007779\n",
      "[433]\ttrain-rmse:0.004787\tvalid-rmse:0.007775\n",
      "[434]\ttrain-rmse:0.004784\tvalid-rmse:0.007773\n",
      "[435]\ttrain-rmse:0.00478\tvalid-rmse:0.007774\n",
      "[436]\ttrain-rmse:0.004778\tvalid-rmse:0.007775\n",
      "[437]\ttrain-rmse:0.004775\tvalid-rmse:0.007767\n",
      "[438]\ttrain-rmse:0.004773\tvalid-rmse:0.007768\n",
      "[439]\ttrain-rmse:0.004771\tvalid-rmse:0.007764\n",
      "[440]\ttrain-rmse:0.004754\tvalid-rmse:0.007753\n",
      "[441]\ttrain-rmse:0.004752\tvalid-rmse:0.007753\n",
      "[442]\ttrain-rmse:0.004744\tvalid-rmse:0.007747\n",
      "[443]\ttrain-rmse:0.004739\tvalid-rmse:0.007747\n",
      "[444]\ttrain-rmse:0.004733\tvalid-rmse:0.007741\n",
      "[445]\ttrain-rmse:0.004727\tvalid-rmse:0.007736\n",
      "[446]\ttrain-rmse:0.004724\tvalid-rmse:0.007732\n",
      "[447]\ttrain-rmse:0.004719\tvalid-rmse:0.007723\n",
      "[448]\ttrain-rmse:0.004717\tvalid-rmse:0.007726\n",
      "[449]\ttrain-rmse:0.004715\tvalid-rmse:0.007724\n",
      "[450]\ttrain-rmse:0.00471\tvalid-rmse:0.007724\n",
      "[451]\ttrain-rmse:0.004708\tvalid-rmse:0.007723\n",
      "[452]\ttrain-rmse:0.004705\tvalid-rmse:0.007724\n",
      "[453]\ttrain-rmse:0.004702\tvalid-rmse:0.007723\n",
      "[454]\ttrain-rmse:0.004698\tvalid-rmse:0.007723\n",
      "[455]\ttrain-rmse:0.004695\tvalid-rmse:0.007727\n",
      "[456]\ttrain-rmse:0.004692\tvalid-rmse:0.007725\n",
      "[457]\ttrain-rmse:0.00469\tvalid-rmse:0.007722\n",
      "[458]\ttrain-rmse:0.004675\tvalid-rmse:0.007711\n",
      "[459]\ttrain-rmse:0.004673\tvalid-rmse:0.007715\n",
      "[460]\ttrain-rmse:0.004669\tvalid-rmse:0.007715\n",
      "[461]\ttrain-rmse:0.004663\tvalid-rmse:0.007707\n",
      "[462]\ttrain-rmse:0.00466\tvalid-rmse:0.007702\n",
      "[463]\ttrain-rmse:0.004659\tvalid-rmse:0.007702\n",
      "[464]\ttrain-rmse:0.004657\tvalid-rmse:0.0077\n",
      "[465]\ttrain-rmse:0.004654\tvalid-rmse:0.007698\n",
      "[466]\ttrain-rmse:0.004652\tvalid-rmse:0.007697\n",
      "[467]\ttrain-rmse:0.004638\tvalid-rmse:0.007674\n",
      "[468]\ttrain-rmse:0.004637\tvalid-rmse:0.007674\n",
      "[469]\ttrain-rmse:0.004635\tvalid-rmse:0.007675\n",
      "[470]\ttrain-rmse:0.004634\tvalid-rmse:0.007675\n",
      "[471]\ttrain-rmse:0.004631\tvalid-rmse:0.007677\n",
      "[472]\ttrain-rmse:0.004628\tvalid-rmse:0.007676\n",
      "[473]\ttrain-rmse:0.004624\tvalid-rmse:0.007675\n",
      "[474]\ttrain-rmse:0.004619\tvalid-rmse:0.007668\n",
      "[475]\ttrain-rmse:0.004617\tvalid-rmse:0.007668\n",
      "[476]\ttrain-rmse:0.004609\tvalid-rmse:0.007666\n",
      "[477]\ttrain-rmse:0.004602\tvalid-rmse:0.007661\n",
      "[478]\ttrain-rmse:0.004598\tvalid-rmse:0.007658\n",
      "[479]\ttrain-rmse:0.004595\tvalid-rmse:0.007659\n",
      "[480]\ttrain-rmse:0.004594\tvalid-rmse:0.007659\n",
      "[481]\ttrain-rmse:0.004592\tvalid-rmse:0.007659\n",
      "[482]\ttrain-rmse:0.004589\tvalid-rmse:0.007662\n",
      "[483]\ttrain-rmse:0.004588\tvalid-rmse:0.007658\n",
      "[484]\ttrain-rmse:0.004584\tvalid-rmse:0.007652\n",
      "[485]\ttrain-rmse:0.004581\tvalid-rmse:0.007651\n",
      "[486]\ttrain-rmse:0.004562\tvalid-rmse:0.007634\n",
      "[487]\ttrain-rmse:0.004561\tvalid-rmse:0.00763\n",
      "[488]\ttrain-rmse:0.004559\tvalid-rmse:0.00763\n",
      "[489]\ttrain-rmse:0.004557\tvalid-rmse:0.007629\n",
      "[490]\ttrain-rmse:0.004535\tvalid-rmse:0.007613\n",
      "[491]\ttrain-rmse:0.00453\tvalid-rmse:0.007608\n",
      "[492]\ttrain-rmse:0.004522\tvalid-rmse:0.007604\n",
      "[493]\ttrain-rmse:0.004519\tvalid-rmse:0.007608\n",
      "[494]\ttrain-rmse:0.004517\tvalid-rmse:0.007608\n",
      "[495]\ttrain-rmse:0.004507\tvalid-rmse:0.007604\n",
      "[496]\ttrain-rmse:0.004504\tvalid-rmse:0.007604\n",
      "[497]\ttrain-rmse:0.004502\tvalid-rmse:0.007602\n",
      "[498]\ttrain-rmse:0.004492\tvalid-rmse:0.007597\n",
      "[499]\ttrain-rmse:0.004484\tvalid-rmse:0.007593\n",
      "[500]\ttrain-rmse:0.004482\tvalid-rmse:0.007592\n",
      "[501]\ttrain-rmse:0.004474\tvalid-rmse:0.007588\n",
      "[502]\ttrain-rmse:0.004472\tvalid-rmse:0.007587\n",
      "[503]\ttrain-rmse:0.004466\tvalid-rmse:0.007579\n",
      "[504]\ttrain-rmse:0.004465\tvalid-rmse:0.00758\n",
      "[505]\ttrain-rmse:0.00446\tvalid-rmse:0.007579\n",
      "[506]\ttrain-rmse:0.004456\tvalid-rmse:0.007585\n",
      "[507]\ttrain-rmse:0.004455\tvalid-rmse:0.007584\n",
      "[508]\ttrain-rmse:0.004453\tvalid-rmse:0.007584\n",
      "[509]\ttrain-rmse:0.004447\tvalid-rmse:0.007583\n",
      "[510]\ttrain-rmse:0.004445\tvalid-rmse:0.007585\n",
      "[511]\ttrain-rmse:0.004442\tvalid-rmse:0.007583\n",
      "[512]\ttrain-rmse:0.004439\tvalid-rmse:0.007576\n",
      "[513]\ttrain-rmse:0.004438\tvalid-rmse:0.007575\n",
      "[514]\ttrain-rmse:0.004429\tvalid-rmse:0.007565\n",
      "[515]\ttrain-rmse:0.004428\tvalid-rmse:0.007566\n",
      "[516]\ttrain-rmse:0.004425\tvalid-rmse:0.007568\n",
      "[517]\ttrain-rmse:0.004423\tvalid-rmse:0.007576\n",
      "[518]\ttrain-rmse:0.004421\tvalid-rmse:0.007578\n",
      "[519]\ttrain-rmse:0.004412\tvalid-rmse:0.00757\n",
      "[520]\ttrain-rmse:0.00441\tvalid-rmse:0.007569\n",
      "[521]\ttrain-rmse:0.004409\tvalid-rmse:0.007571\n",
      "[522]\ttrain-rmse:0.004408\tvalid-rmse:0.007568\n",
      "[523]\ttrain-rmse:0.004406\tvalid-rmse:0.007568\n",
      "[524]\ttrain-rmse:0.004403\tvalid-rmse:0.007567\n",
      "Stopping. Best iteration:\n",
      "[514]\ttrain-rmse:0.004429\tvalid-rmse:0.007565\n",
      "\n",
      "Modeling RMSLE 0.00756\n"
     ]
    }
   ],
   "source": [
    "xgb_pars = {'min_child_weight': 50, 'eta': 0.1, 'colsample_bytree': 0.9, 'max_depth': 10,\n",
    "'subsample': 0.9, 'lambda': 1., 'nthread': -1, 'booster' : 'gbtree', 'silent': 1,\n",
    "'eval_metric': 'rmse', 'objective': 'reg:linear'}\n",
    "\n",
    "model1 = xgb.train(xgb_pars, dtrain, 1000, watchlist, early_stopping_rounds=10,\n",
    "      maximize=False, verbose_eval=1)\n",
    "\n",
    "print('Modeling RMSLE %.5f' % model.best_score)"
   ]
  },
  {
   "cell_type": "markdown",
   "metadata": {},
   "source": [
    "### Train/Validation Set Evaluation "
   ]
  },
  {
   "cell_type": "code",
   "execution_count": 242,
   "metadata": {
    "scrolled": true
   },
   "outputs": [
    {
     "data": {
      "text/plain": [
       "<matplotlib.axes._subplots.AxesSubplot at 0x23803acaeb8>"
      ]
     },
     "execution_count": 242,
     "metadata": {},
     "output_type": "execute_result"
    },
    {
     "data": {
      "image/png": "[encoded data removed]",
      "text/plain": [
       "<matplotlib.figure.Figure at 0x2380894ffd0>"
      ]
     },
     "metadata": {},
     "output_type": "display_data"
    }
   ],
   "source": [
    "xgb.plot_importance(model1, height=0.3)"
   ]
  },
  {
   "cell_type": "markdown",
   "metadata": {},
   "source": [
    "### Prediction"
   ]
  },
  {
   "cell_type": "code",
   "execution_count": 243,
   "metadata": {
    "collapsed": true
   },
   "outputs": [],
   "source": [
    "# evaluate the model\n",
    "pred = model1.predict(dtest)"
   ]
  },
  {
   "cell_type": "code",
   "execution_count": null,
   "metadata": {
    "collapsed": true
   },
   "outputs": [],
   "source": [
    "pred = np.exp(pred) - 1"
   ]
  },
  {
   "cell_type": "code",
   "execution_count": 251,
   "metadata": {},
   "outputs": [
    {
     "data": {
      "text/plain": [
       "(68534, 68534)"
      ]
     },
     "execution_count": 251,
     "metadata": {},
     "output_type": "execute_result"
    }
   ],
   "source": [
    "len(pred), len(Z_y)"
   ]
  },
  {
   "cell_type": "code",
   "execution_count": 252,
   "metadata": {},
   "outputs": [
    {
     "data": {
      "text/plain": [
       "array([  5.17074299,   3.13505983,   2.94549942, ...,  53.54247665,\n",
       "        54.07151794,  53.72103882], dtype=float32)"
      ]
     },
     "execution_count": 252,
     "metadata": {},
     "output_type": "execute_result"
    }
   ],
   "source": [
    "pred"
   ]
  },
  {
   "cell_type": "code",
   "execution_count": null,
   "metadata": {
    "collapsed": true
   },
   "outputs": [],
   "source": []
  },
  {
   "cell_type": "code",
   "execution_count": 265,
   "metadata": {},
   "outputs": [
    {
     "data": {
      "text/plain": [
       "XGBClassifier(base_score=0.5, colsample_bylevel=1, colsample_bytree=1,\n",
       "       gamma=0, learning_rate=0.1, max_delta_step=0, max_depth=3,\n",
       "       min_child_weight=1, missing=None, n_estimators=100, nthread=-1,\n",
       "       objective='multi:softprob', reg_alpha=0, reg_lambda=1,\n",
       "       scale_pos_weight=1, seed=0, silent=True, subsample=1)"
      ]
     },
     "execution_count": 265,
     "metadata": {},
     "output_type": "execute_result"
    }
   ],
   "source": [
    "# fit model no training data\n",
    "model2 = xgb.XGBClassifier()\n",
    "model2.fit(X_train, y_train)"
   ]
  },
  {
   "cell_type": "code",
   "execution_count": 262,
   "metadata": {},
   "outputs": [
    {
     "data": {
      "text/plain": [
       "array([1, 1, 1, ..., 4, 4, 4])"
      ]
     },
     "execution_count": 262,
     "metadata": {},
     "output_type": "execute_result"
    }
   ],
   "source": [
    "# make predictions for test data\n",
    "Z_h = model2.predict(Z_X)\n",
    "Z_h"
   ]
  },
  {
   "cell_type": "code",
   "execution_count": 256,
   "metadata": {
    "collapsed": true
   },
   "outputs": [],
   "source": [
    "predictions = [round(value) for value in Z_pred]"
   ]
  },
  {
   "cell_type": "code",
   "execution_count": 263,
   "metadata": {},
   "outputs": [
    {
     "data": {
      "text/plain": [
       "0.59357399247089038"
      ]
     },
     "execution_count": 263,
     "metadata": {},
     "output_type": "execute_result"
    }
   ],
   "source": [
    "np.mean(Z_h == Z_y)"
   ]
  },
  {
   "cell_type": "code",
   "execution_count": 473,
   "metadata": {
    "collapsed": true
   },
   "outputs": [],
   "source": [
    "result[\"DAMAGE\"] = predictions"
   ]
  },
  {
   "cell_type": "code",
   "execution_count": 474,
   "metadata": {
    "collapsed": true
   },
   "outputs": [],
   "source": [
    "result.to_excel(\"resultTest.xlsx\")"
   ]
  },
  {
   "cell_type": "code",
   "execution_count": 264,
   "metadata": {},
   "outputs": [
    {
     "name": "stdout",
     "output_type": "stream",
     "text": [
      "Accuracy: 59.36%\n"
     ]
    }
   ],
   "source": [
    "# evaluate predictions\n",
    "accuracy = accuracy_score(Z_y, Z_h)\n",
    "print(\"Accuracy: %.2f%%\" % (accuracy * 100.0))"
   ]
  },
  {
   "cell_type": "code",
   "execution_count": null,
   "metadata": {
    "collapsed": true
   },
   "outputs": [],
   "source": []
  },
  {
   "cell_type": "code",
   "execution_count": null,
   "metadata": {
    "collapsed": true
   },
   "outputs": [],
   "source": []
  },
  {
   "cell_type": "markdown",
   "metadata": {},
   "source": [
    "### RandomTreeClassifier MODEL"
   ]
  },
  {
   "cell_type": "markdown",
   "metadata": {},
   "source": [
    "### Check feature importance"
   ]
  },
  {
   "cell_type": "code",
   "execution_count": 266,
   "metadata": {
    "collapsed": true
   },
   "outputs": [],
   "source": [
    "clf = RandomForestClassifier(n_estimators=50, max_features='sqrt')\n",
    "clf = clf.fit(X,y)"
   ]
  },
  {
   "cell_type": "code",
   "execution_count": 267,
   "metadata": {
    "collapsed": true
   },
   "outputs": [],
   "source": [
    "features = pd.DataFrame()\n",
    "features['feature'] = X.columns\n",
    "features['importance'] = clf.feature_importances_\n",
    "features.sort_values(by=['importance'], ascending=True, inplace=True)\n",
    "features.set_index('feature', inplace=True)"
   ]
  },
  {
   "cell_type": "code",
   "execution_count": 268,
   "metadata": {},
   "outputs": [
    {
     "data": {
      "text/plain": [
       "<matplotlib.axes._subplots.AxesSubplot at 0x23875eb8ac8>"
      ]
     },
     "execution_count": 268,
     "metadata": {},
     "output_type": "execute_result"
    },
    {
     "data": {
      "image/png": "[encoded data removed]",
      "text/plain": [
       "<matplotlib.figure.Figure at 0x238712c8b70>"
      ]
     },
     "metadata": {},
     "output_type": "display_data"
    }
   ],
   "source": [
    "features.plot(kind='barh', figsize=(20, 20))"
   ]
  },
  {
   "cell_type": "markdown",
   "metadata": {},
   "source": [
    "### Hyperparameter tuning"
   ]
  },
  {
   "cell_type": "code",
   "execution_count": 273,
   "metadata": {},
   "outputs": [
    {
     "data": {
      "text/plain": [
       "RandomForestClassifier(bootstrap=False, class_weight=None, criterion='gini',\n",
       "            max_depth=6, max_features='sqrt', max_leaf_nodes=None,\n",
       "            min_impurity_decrease=0.0, min_impurity_split=None,\n",
       "            min_samples_leaf=3, min_samples_split=10,\n",
       "            min_weight_fraction_leaf=0.0, n_estimators=50, n_jobs=1,\n",
       "            oob_score=False, random_state=None, verbose=0,\n",
       "            warm_start=False)"
      ]
     },
     "execution_count": 273,
     "metadata": {},
     "output_type": "execute_result"
    }
   ],
   "source": [
    "parameters = {'bootstrap': False, 'min_samples_leaf': 3, 'n_estimators': 50,\n",
    "                'min_samples_split': 10, 'max_features': 'sqrt', 'max_depth': 6}\n",
    "model3 = RandomForestClassifier(**parameters)\n",
    "model3.fit(X_train, y_train)"
   ]
  },
  {
   "cell_type": "code",
   "execution_count": 274,
   "metadata": {},
   "outputs": [
    {
     "data": {
      "text/plain": [
       "1.0"
      ]
     },
     "execution_count": 274,
     "metadata": {},
     "output_type": "execute_result"
    }
   ],
   "source": [
    "xval = cross_val_score(model, X_valid, y_valid, cv = 5, scoring='accuracy')\n",
    "np.mean(xval)"
   ]
  },
  {
   "cell_type": "code",
   "execution_count": 275,
   "metadata": {
    "collapsed": true
   },
   "outputs": [],
   "source": [
    "Z_h = model3.predict(Z_X)"
   ]
  },
  {
   "cell_type": "code",
   "execution_count": 277,
   "metadata": {},
   "outputs": [
    {
     "data": {
      "text/plain": [
       "0.57466367058686196"
      ]
     },
     "execution_count": 277,
     "metadata": {},
     "output_type": "execute_result"
    }
   ],
   "source": [
    "np.mean(Z_h == Z_y)"
   ]
  },
  {
   "cell_type": "code",
   "execution_count": 280,
   "metadata": {},
   "outputs": [
    {
     "data": {
      "text/html": [
       "<div>\n",
       "<style>\n",
       "    .dataframe thead tr:only-child th {\n",
       "        text-align: right;\n",
       "    }\n",
       "\n",
       "    .dataframe thead th {\n",
       "        text-align: left;\n",
       "    }\n",
       "\n",
       "    .dataframe tbody tr th {\n",
       "        vertical-align: top;\n",
       "    }\n",
       "</style>\n",
       "<table border=\"1\" class=\"dataframe\">\n",
       "  <thead>\n",
       "    <tr style=\"text-align: right;\">\n",
       "      <th></th>\n",
       "      <th>0</th>\n",
       "    </tr>\n",
       "    <tr>\n",
       "      <th>DAMAGE</th>\n",
       "      <th></th>\n",
       "    </tr>\n",
       "  </thead>\n",
       "  <tbody>\n",
       "    <tr>\n",
       "      <th>1</th>\n",
       "      <td>3</td>\n",
       "    </tr>\n",
       "    <tr>\n",
       "      <th>1</th>\n",
       "      <td>3</td>\n",
       "    </tr>\n",
       "    <tr>\n",
       "      <th>1</th>\n",
       "      <td>3</td>\n",
       "    </tr>\n",
       "    <tr>\n",
       "      <th>1</th>\n",
       "      <td>3</td>\n",
       "    </tr>\n",
       "    <tr>\n",
       "      <th>1</th>\n",
       "      <td>3</td>\n",
       "    </tr>\n",
       "    <tr>\n",
       "      <th>1</th>\n",
       "      <td>3</td>\n",
       "    </tr>\n",
       "    <tr>\n",
       "      <th>1</th>\n",
       "      <td>3</td>\n",
       "    </tr>\n",
       "    <tr>\n",
       "      <th>1</th>\n",
       "      <td>3</td>\n",
       "    </tr>\n",
       "    <tr>\n",
       "      <th>1</th>\n",
       "      <td>3</td>\n",
       "    </tr>\n",
       "    <tr>\n",
       "      <th>1</th>\n",
       "      <td>3</td>\n",
       "    </tr>\n",
       "    <tr>\n",
       "      <th>1</th>\n",
       "      <td>3</td>\n",
       "    </tr>\n",
       "    <tr>\n",
       "      <th>1</th>\n",
       "      <td>3</td>\n",
       "    </tr>\n",
       "    <tr>\n",
       "      <th>1</th>\n",
       "      <td>3</td>\n",
       "    </tr>\n",
       "    <tr>\n",
       "      <th>1</th>\n",
       "      <td>3</td>\n",
       "    </tr>\n",
       "    <tr>\n",
       "      <th>1</th>\n",
       "      <td>3</td>\n",
       "    </tr>\n",
       "    <tr>\n",
       "      <th>1</th>\n",
       "      <td>3</td>\n",
       "    </tr>\n",
       "    <tr>\n",
       "      <th>1</th>\n",
       "      <td>3</td>\n",
       "    </tr>\n",
       "    <tr>\n",
       "      <th>1</th>\n",
       "      <td>3</td>\n",
       "    </tr>\n",
       "    <tr>\n",
       "      <th>1</th>\n",
       "      <td>3</td>\n",
       "    </tr>\n",
       "    <tr>\n",
       "      <th>1</th>\n",
       "      <td>3</td>\n",
       "    </tr>\n",
       "    <tr>\n",
       "      <th>1</th>\n",
       "      <td>3</td>\n",
       "    </tr>\n",
       "    <tr>\n",
       "      <th>1</th>\n",
       "      <td>3</td>\n",
       "    </tr>\n",
       "    <tr>\n",
       "      <th>1</th>\n",
       "      <td>3</td>\n",
       "    </tr>\n",
       "    <tr>\n",
       "      <th>1</th>\n",
       "      <td>3</td>\n",
       "    </tr>\n",
       "    <tr>\n",
       "      <th>1</th>\n",
       "      <td>3</td>\n",
       "    </tr>\n",
       "    <tr>\n",
       "      <th>1</th>\n",
       "      <td>3</td>\n",
       "    </tr>\n",
       "    <tr>\n",
       "      <th>1</th>\n",
       "      <td>3</td>\n",
       "    </tr>\n",
       "    <tr>\n",
       "      <th>1</th>\n",
       "      <td>3</td>\n",
       "    </tr>\n",
       "    <tr>\n",
       "      <th>1</th>\n",
       "      <td>3</td>\n",
       "    </tr>\n",
       "    <tr>\n",
       "      <th>1</th>\n",
       "      <td>3</td>\n",
       "    </tr>\n",
       "    <tr>\n",
       "      <th>...</th>\n",
       "      <td>...</td>\n",
       "    </tr>\n",
       "    <tr>\n",
       "      <th>4</th>\n",
       "      <td>4</td>\n",
       "    </tr>\n",
       "    <tr>\n",
       "      <th>4</th>\n",
       "      <td>4</td>\n",
       "    </tr>\n",
       "    <tr>\n",
       "      <th>4</th>\n",
       "      <td>4</td>\n",
       "    </tr>\n",
       "    <tr>\n",
       "      <th>4</th>\n",
       "      <td>4</td>\n",
       "    </tr>\n",
       "    <tr>\n",
       "      <th>4</th>\n",
       "      <td>4</td>\n",
       "    </tr>\n",
       "    <tr>\n",
       "      <th>4</th>\n",
       "      <td>4</td>\n",
       "    </tr>\n",
       "    <tr>\n",
       "      <th>4</th>\n",
       "      <td>4</td>\n",
       "    </tr>\n",
       "    <tr>\n",
       "      <th>4</th>\n",
       "      <td>4</td>\n",
       "    </tr>\n",
       "    <tr>\n",
       "      <th>4</th>\n",
       "      <td>4</td>\n",
       "    </tr>\n",
       "    <tr>\n",
       "      <th>4</th>\n",
       "      <td>4</td>\n",
       "    </tr>\n",
       "    <tr>\n",
       "      <th>4</th>\n",
       "      <td>4</td>\n",
       "    </tr>\n",
       "    <tr>\n",
       "      <th>4</th>\n",
       "      <td>4</td>\n",
       "    </tr>\n",
       "    <tr>\n",
       "      <th>4</th>\n",
       "      <td>4</td>\n",
       "    </tr>\n",
       "    <tr>\n",
       "      <th>4</th>\n",
       "      <td>4</td>\n",
       "    </tr>\n",
       "    <tr>\n",
       "      <th>4</th>\n",
       "      <td>4</td>\n",
       "    </tr>\n",
       "    <tr>\n",
       "      <th>4</th>\n",
       "      <td>4</td>\n",
       "    </tr>\n",
       "    <tr>\n",
       "      <th>4</th>\n",
       "      <td>4</td>\n",
       "    </tr>\n",
       "    <tr>\n",
       "      <th>4</th>\n",
       "      <td>4</td>\n",
       "    </tr>\n",
       "    <tr>\n",
       "      <th>4</th>\n",
       "      <td>4</td>\n",
       "    </tr>\n",
       "    <tr>\n",
       "      <th>4</th>\n",
       "      <td>4</td>\n",
       "    </tr>\n",
       "    <tr>\n",
       "      <th>4</th>\n",
       "      <td>4</td>\n",
       "    </tr>\n",
       "    <tr>\n",
       "      <th>4</th>\n",
       "      <td>4</td>\n",
       "    </tr>\n",
       "    <tr>\n",
       "      <th>4</th>\n",
       "      <td>4</td>\n",
       "    </tr>\n",
       "    <tr>\n",
       "      <th>4</th>\n",
       "      <td>4</td>\n",
       "    </tr>\n",
       "    <tr>\n",
       "      <th>4</th>\n",
       "      <td>4</td>\n",
       "    </tr>\n",
       "    <tr>\n",
       "      <th>4</th>\n",
       "      <td>4</td>\n",
       "    </tr>\n",
       "    <tr>\n",
       "      <th>4</th>\n",
       "      <td>4</td>\n",
       "    </tr>\n",
       "    <tr>\n",
       "      <th>4</th>\n",
       "      <td>4</td>\n",
       "    </tr>\n",
       "    <tr>\n",
       "      <th>4</th>\n",
       "      <td>4</td>\n",
       "    </tr>\n",
       "    <tr>\n",
       "      <th>4</th>\n",
       "      <td>4</td>\n",
       "    </tr>\n",
       "  </tbody>\n",
       "</table>\n",
       "<p>68534 rows × 1 columns</p>\n",
       "</div>"
      ],
      "text/plain": [
       "        0\n",
       "DAMAGE   \n",
       "1       3\n",
       "1       3\n",
       "1       3\n",
       "1       3\n",
       "1       3\n",
       "1       3\n",
       "1       3\n",
       "1       3\n",
       "1       3\n",
       "1       3\n",
       "1       3\n",
       "1       3\n",
       "1       3\n",
       "1       3\n",
       "1       3\n",
       "1       3\n",
       "1       3\n",
       "1       3\n",
       "1       3\n",
       "1       3\n",
       "1       3\n",
       "1       3\n",
       "1       3\n",
       "1       3\n",
       "1       3\n",
       "1       3\n",
       "1       3\n",
       "1       3\n",
       "1       3\n",
       "1       3\n",
       "...    ..\n",
       "4       4\n",
       "4       4\n",
       "4       4\n",
       "4       4\n",
       "4       4\n",
       "4       4\n",
       "4       4\n",
       "4       4\n",
       "4       4\n",
       "4       4\n",
       "4       4\n",
       "4       4\n",
       "4       4\n",
       "4       4\n",
       "4       4\n",
       "4       4\n",
       "4       4\n",
       "4       4\n",
       "4       4\n",
       "4       4\n",
       "4       4\n",
       "4       4\n",
       "4       4\n",
       "4       4\n",
       "4       4\n",
       "4       4\n",
       "4       4\n",
       "4       4\n",
       "4       4\n",
       "4       4\n",
       "\n",
       "[68534 rows x 1 columns]"
      ]
     },
     "execution_count": 280,
     "metadata": {},
     "output_type": "execute_result"
    }
   ],
   "source": [
    "pd.DataFrame(Z_h, Z_y)"
   ]
  },
  {
   "cell_type": "markdown",
   "metadata": {},
   "source": [
    "***\n",
    "## 4. Predict and Evaluate"
   ]
  },
  {
   "cell_type": "markdown",
   "metadata": {},
   "source": [
    "### Select test model features "
   ]
  },
  {
   "cell_type": "markdown",
   "metadata": {},
   "source": [
    "### Make predictions "
   ]
  },
  {
   "cell_type": "markdown",
   "metadata": {},
   "source": [
    "***\n",
    "## 6. Save Results\n",
    "### Create the Solution "
   ]
  },
  {
   "cell_type": "code",
   "execution_count": null,
   "metadata": {
    "collapsed": true
   },
   "outputs": [],
   "source": [
    "my_solution.index.name"
   ]
  },
  {
   "cell_type": "markdown",
   "metadata": {},
   "source": [
    "### Save to CSV file "
   ]
  },
  {
   "cell_type": "code",
   "execution_count": null,
   "metadata": {
    "collapsed": true
   },
   "outputs": [],
   "source": [
    "my_solution.to_csv(\"my_solution_six.csv\")"
   ]
  },
  {
   "cell_type": "markdown",
   "metadata": {},
   "source": [
    " "
   ]
  },
  {
   "cell_type": "markdown",
   "metadata": {},
   "source": [
    "***\n",
    "***\n",
    "# Rough Work "
   ]
  },
  {
   "cell_type": "code",
   "execution_count": null,
   "metadata": {
    "collapsed": true
   },
   "outputs": [],
   "source": [
    "%matplotlib inline"
   ]
  },
  {
   "cell_type": "code",
   "execution_count": null,
   "metadata": {
    "collapsed": true
   },
   "outputs": [],
   "source": []
  }
 ],
 "metadata": {
  "kernelspec": {
   "display_name": "Python 3",
   "language": "python",
   "name": "python3"
  },
  "language_info": {
   "codemirror_mode": {
    "name": "ipython",
    "version": 3
   },
   "file_extension": ".py",
   "mimetype": "text/x-python",
   "name": "python",
   "nbconvert_exporter": "python",
   "pygments_lexer": "ipython3",
   "version": "3.5.4"
  }
 },
 "nbformat": 4,
 "nbformat_minor": 2
}
